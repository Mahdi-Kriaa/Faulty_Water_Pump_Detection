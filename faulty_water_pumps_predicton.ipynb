{
  "nbformat": 4,
  "nbformat_minor": 0,
  "metadata": {
    "colab": {
      "provenance": [],
      "authorship_tag": "ABX9TyOEEyvMcySwVLgeuQGlQDqO",
      "include_colab_link": true
    },
    "kernelspec": {
      "name": "python3",
      "display_name": "Python 3"
    },
    "language_info": {
      "name": "python"
    }
  },
  "cells": [
    {
      "cell_type": "markdown",
      "metadata": {
        "id": "view-in-github",
        "colab_type": "text"
      },
      "source": [
        "<a href=\"https://colab.research.google.com/github/Mahdi-Kriaa/faulty_water_pumps_predicton/blob/main/faulty_water_pumps_predicton.ipynb\" target=\"_parent\"><img src=\"https://colab.research.google.com/assets/colab-badge.svg\" alt=\"Open In Colab\"/></a>"
      ]
    },
    {
      "cell_type": "markdown",
      "source": [
        "**1. Source of data**"
      ],
      "metadata": {
        "id": "hWFXYRJmxqzx"
      }
    },
    {
      "cell_type": "markdown",
      "source": [
        "The data for this project comes from the Taarifa waterpoints dashboard, which aggregates data from the Tanzania Ministry of Water.\n",
        "\n",
        "Link to dataset : https://www.kaggle.com/datasets/sumeetsawant/pump-it-up-challenge-driven-data?select=training_Set_values.csv"
      ],
      "metadata": {
        "id": "6dVu8eNexvsJ"
      }
    },
    {
      "cell_type": "markdown",
      "source": [
        "**2. Data description**"
      ],
      "metadata": {
        "id": "8aLWMHS3yztc"
      }
    },
    {
      "cell_type": "markdown",
      "source": [
        "The dataset provides detailed insights into various aspects of water pumps. It includes critical information such as the geographical coordinates of the pumps, the management type of pumps, the source of water, and the quality and quantity of water that each pump can extract. Moreover, it provides the operational status of each pump, indicating whether it is functional, non-functional, or requires repair. It also includes data about the population each pump serves, offering valuable insights into the scale of its impact.\n"
      ],
      "metadata": {
        "id": "70SS-xy3y4Ak"
      }
    },
    {
      "cell_type": "markdown",
      "source": [
        "**3. What is the target?**"
      ],
      "metadata": {
        "id": "A3xCxB3O3ycP"
      }
    },
    {
      "cell_type": "markdown",
      "source": [
        "The target is the status_group variable, which indicates whether the pump is functional, non-functional, or functional but needs repair."
      ],
      "metadata": {
        "id": "SSkjgsY730UD"
      }
    },
    {
      "cell_type": "markdown",
      "source": [
        "**4. What does one row represent?**"
      ],
      "metadata": {
        "id": "xd9WgF4o6RCH"
      }
    },
    {
      "cell_type": "markdown",
      "source": [
        "A row represent a record in a set of conditions"
      ],
      "metadata": {
        "id": "PrIDAU1G6eOP"
      }
    },
    {
      "cell_type": "markdown",
      "source": [
        "**5. Is this a classification or regression problem?**"
      ],
      "metadata": {
        "id": "dvTjbyji60Px"
      }
    },
    {
      "cell_type": "markdown",
      "source": [
        "Classification problem"
      ],
      "metadata": {
        "id": "BsFZAb4e64NB"
      }
    },
    {
      "cell_type": "markdown",
      "source": [
        "**6. How many features does the data have?**"
      ],
      "metadata": {
        "id": "qck_eCgA7L7A"
      }
    },
    {
      "cell_type": "markdown",
      "source": [
        "40 features"
      ],
      "metadata": {
        "id": "5KGvlhn77xiz"
      }
    },
    {
      "cell_type": "markdown",
      "source": [
        "**7. How many rows are in the dataset?**"
      ],
      "metadata": {
        "id": "tMUDddo876fA"
      }
    },
    {
      "cell_type": "markdown",
      "source": [
        "59400 rows"
      ],
      "metadata": {
        "id": "YvTKYOsy9LQr"
      }
    },
    {
      "cell_type": "markdown",
      "source": [
        "**8. What, if any, challenges do you foresee in cleaning, exploring, or modeling this dataset?**"
      ],
      "metadata": {
        "id": "JFoG8lfc9VPo"
      }
    },
    {
      "cell_type": "markdown",
      "source": [
        "- Dealing with missing values\n",
        "- Dealing with imbalanced classes"
      ],
      "metadata": {
        "id": "M8OaFwn59bxB"
      }
    }
  ]
}
{
  "cells": [
    {
      "cell_type": "code",
      "execution_count": 1,
      "metadata": {
        "id": "70jWSESrkVXu"
      },
      "outputs": [],
      "source": [
        "# imports\n",
        "import warnings\n",
        "import pandas as pd\n",
        "import numpy as np\n",
        "import matplotlib.pyplot as plt\n",
        "import seaborn as sns\n",
        "from sklearn.model_selection import train_test_split\n",
        "from sklearn.preprocessing import OneHotEncoder, LabelEncoder, StandardScaler\n",
        "from sklearn.impute import SimpleImputer\n",
        "from imblearn.over_sampling import SMOTE\n",
        "from sklearn.compose import ColumnTransformer\n",
        "from sklearn.pipeline import Pipeline\n",
        "from sklearn.pipeline import make_pipeline\n",
        "from imblearn.pipeline import Pipeline as smt_pipeline\n",
        "from sklearn.decomposition import PCA\n",
        "from sklearn.model_selection import GridSearchCV\n",
        "from sklearn.dummy import DummyClassifier\n",
        "from sklearn.tree import DecisionTreeClassifier\n",
        "from sklearn.svm import LinearSVC\n",
        "from sklearn.neighbors import KNeighborsClassifier\n",
        "from sklearn.ensemble import RandomForestClassifier, AdaBoostClassifier, StackingClassifier\n",
        "from xgboost import XGBClassifier\n",
        "from sklearn.metrics import f1_score, make_scorer, classification_report, confusion_matrix\n",
        "from sklearn import set_config"
      ]
    },
    {
      "cell_type": "code",
      "execution_count": 2,
      "metadata": {
        "colab": {
          "base_uri": "https://localhost:8080/"
        },
        "id": "NX0ncNSvzqjI",
        "outputId": "9e9e1928-5587-401a-d053-ff36bd149e6e"
      },
      "outputs": [],
      "source": [
        "# general settings\n",
        "warnings.filterwarnings(\"ignore\")\n",
        "set_config(transform_output=\"pandas\")\n",
        "pd.set_option('display.max_columns', None)\n",
        "sns.set_theme(style=\"whitegrid\")"
      ]
    },
    {
      "cell_type": "code",
      "execution_count": 3,
      "metadata": {
        "id": "9dnjLo0wni3T"
      },
      "outputs": [],
      "source": [
        "# load data\n",
        "df_features = pd.read_csv(\"data/pumps_values.csv\")\n",
        "df_target = pd.read_csv(\"data/pumps_labels.csv\")"
      ]
    },
    {
      "cell_type": "markdown",
      "metadata": {
        "id": "YchfBsXTRAD1"
      },
      "source": [
        "# EDA & Data Cleaning"
      ]
    },
    {
      "cell_type": "code",
      "execution_count": 4,
      "metadata": {
        "colab": {
          "base_uri": "https://localhost:8080/",
          "height": 434
        },
        "id": "SgG8hKIs0w8s",
        "outputId": "e66011d6-d2f3-464f-fa3f-9a759b579610"
      },
      "outputs": [
        {
          "name": "stdout",
          "output_type": "stream",
          "text": [
            "(59400, 40)\n"
          ]
        },
        {
          "data": {
            "text/html": [
              "<div>\n",
              "<style scoped>\n",
              "    .dataframe tbody tr th:only-of-type {\n",
              "        vertical-align: middle;\n",
              "    }\n",
              "\n",
              "    .dataframe tbody tr th {\n",
              "        vertical-align: top;\n",
              "    }\n",
              "\n",
              "    .dataframe thead th {\n",
              "        text-align: right;\n",
              "    }\n",
              "</style>\n",
              "<table border=\"1\" class=\"dataframe\">\n",
              "  <thead>\n",
              "    <tr style=\"text-align: right;\">\n",
              "      <th></th>\n",
              "      <th>id</th>\n",
              "      <th>amount_tsh</th>\n",
              "      <th>date_recorded</th>\n",
              "      <th>funder</th>\n",
              "      <th>gps_height</th>\n",
              "      <th>installer</th>\n",
              "      <th>longitude</th>\n",
              "      <th>latitude</th>\n",
              "      <th>wpt_name</th>\n",
              "      <th>num_private</th>\n",
              "      <th>basin</th>\n",
              "      <th>subvillage</th>\n",
              "      <th>region</th>\n",
              "      <th>region_code</th>\n",
              "      <th>district_code</th>\n",
              "      <th>lga</th>\n",
              "      <th>ward</th>\n",
              "      <th>population</th>\n",
              "      <th>public_meeting</th>\n",
              "      <th>recorded_by</th>\n",
              "      <th>scheme_management</th>\n",
              "      <th>scheme_name</th>\n",
              "      <th>permit</th>\n",
              "      <th>construction_year</th>\n",
              "      <th>extraction_type</th>\n",
              "      <th>extraction_type_group</th>\n",
              "      <th>extraction_type_class</th>\n",
              "      <th>management</th>\n",
              "      <th>management_group</th>\n",
              "      <th>payment</th>\n",
              "      <th>payment_type</th>\n",
              "      <th>water_quality</th>\n",
              "      <th>quality_group</th>\n",
              "      <th>quantity</th>\n",
              "      <th>quantity_group</th>\n",
              "      <th>source</th>\n",
              "      <th>source_type</th>\n",
              "      <th>source_class</th>\n",
              "      <th>waterpoint_type</th>\n",
              "      <th>waterpoint_type_group</th>\n",
              "    </tr>\n",
              "  </thead>\n",
              "  <tbody>\n",
              "    <tr>\n",
              "      <th>0</th>\n",
              "      <td>69572</td>\n",
              "      <td>6000.0</td>\n",
              "      <td>2011-03-14</td>\n",
              "      <td>Roman</td>\n",
              "      <td>1390</td>\n",
              "      <td>Roman</td>\n",
              "      <td>34.938093</td>\n",
              "      <td>-9.856322</td>\n",
              "      <td>none</td>\n",
              "      <td>0</td>\n",
              "      <td>Lake Nyasa</td>\n",
              "      <td>Mnyusi B</td>\n",
              "      <td>Iringa</td>\n",
              "      <td>11</td>\n",
              "      <td>5</td>\n",
              "      <td>Ludewa</td>\n",
              "      <td>Mundindi</td>\n",
              "      <td>109</td>\n",
              "      <td>True</td>\n",
              "      <td>GeoData Consultants Ltd</td>\n",
              "      <td>VWC</td>\n",
              "      <td>Roman</td>\n",
              "      <td>False</td>\n",
              "      <td>1999</td>\n",
              "      <td>gravity</td>\n",
              "      <td>gravity</td>\n",
              "      <td>gravity</td>\n",
              "      <td>vwc</td>\n",
              "      <td>user-group</td>\n",
              "      <td>pay annually</td>\n",
              "      <td>annually</td>\n",
              "      <td>soft</td>\n",
              "      <td>good</td>\n",
              "      <td>enough</td>\n",
              "      <td>enough</td>\n",
              "      <td>spring</td>\n",
              "      <td>spring</td>\n",
              "      <td>groundwater</td>\n",
              "      <td>communal standpipe</td>\n",
              "      <td>communal standpipe</td>\n",
              "    </tr>\n",
              "    <tr>\n",
              "      <th>1</th>\n",
              "      <td>8776</td>\n",
              "      <td>0.0</td>\n",
              "      <td>2013-03-06</td>\n",
              "      <td>Grumeti</td>\n",
              "      <td>1399</td>\n",
              "      <td>GRUMETI</td>\n",
              "      <td>34.698766</td>\n",
              "      <td>-2.147466</td>\n",
              "      <td>Zahanati</td>\n",
              "      <td>0</td>\n",
              "      <td>Lake Victoria</td>\n",
              "      <td>Nyamara</td>\n",
              "      <td>Mara</td>\n",
              "      <td>20</td>\n",
              "      <td>2</td>\n",
              "      <td>Serengeti</td>\n",
              "      <td>Natta</td>\n",
              "      <td>280</td>\n",
              "      <td>NaN</td>\n",
              "      <td>GeoData Consultants Ltd</td>\n",
              "      <td>Other</td>\n",
              "      <td>NaN</td>\n",
              "      <td>True</td>\n",
              "      <td>2010</td>\n",
              "      <td>gravity</td>\n",
              "      <td>gravity</td>\n",
              "      <td>gravity</td>\n",
              "      <td>wug</td>\n",
              "      <td>user-group</td>\n",
              "      <td>never pay</td>\n",
              "      <td>never pay</td>\n",
              "      <td>soft</td>\n",
              "      <td>good</td>\n",
              "      <td>insufficient</td>\n",
              "      <td>insufficient</td>\n",
              "      <td>rainwater harvesting</td>\n",
              "      <td>rainwater harvesting</td>\n",
              "      <td>surface</td>\n",
              "      <td>communal standpipe</td>\n",
              "      <td>communal standpipe</td>\n",
              "    </tr>\n",
              "    <tr>\n",
              "      <th>2</th>\n",
              "      <td>34310</td>\n",
              "      <td>25.0</td>\n",
              "      <td>2013-02-25</td>\n",
              "      <td>Lottery Club</td>\n",
              "      <td>686</td>\n",
              "      <td>World vision</td>\n",
              "      <td>37.460664</td>\n",
              "      <td>-3.821329</td>\n",
              "      <td>Kwa Mahundi</td>\n",
              "      <td>0</td>\n",
              "      <td>Pangani</td>\n",
              "      <td>Majengo</td>\n",
              "      <td>Manyara</td>\n",
              "      <td>21</td>\n",
              "      <td>4</td>\n",
              "      <td>Simanjiro</td>\n",
              "      <td>Ngorika</td>\n",
              "      <td>250</td>\n",
              "      <td>True</td>\n",
              "      <td>GeoData Consultants Ltd</td>\n",
              "      <td>VWC</td>\n",
              "      <td>Nyumba ya mungu pipe scheme</td>\n",
              "      <td>True</td>\n",
              "      <td>2009</td>\n",
              "      <td>gravity</td>\n",
              "      <td>gravity</td>\n",
              "      <td>gravity</td>\n",
              "      <td>vwc</td>\n",
              "      <td>user-group</td>\n",
              "      <td>pay per bucket</td>\n",
              "      <td>per bucket</td>\n",
              "      <td>soft</td>\n",
              "      <td>good</td>\n",
              "      <td>enough</td>\n",
              "      <td>enough</td>\n",
              "      <td>dam</td>\n",
              "      <td>dam</td>\n",
              "      <td>surface</td>\n",
              "      <td>communal standpipe multiple</td>\n",
              "      <td>communal standpipe</td>\n",
              "    </tr>\n",
              "    <tr>\n",
              "      <th>3</th>\n",
              "      <td>67743</td>\n",
              "      <td>0.0</td>\n",
              "      <td>2013-01-28</td>\n",
              "      <td>Unicef</td>\n",
              "      <td>263</td>\n",
              "      <td>UNICEF</td>\n",
              "      <td>38.486161</td>\n",
              "      <td>-11.155298</td>\n",
              "      <td>Zahanati Ya Nanyumbu</td>\n",
              "      <td>0</td>\n",
              "      <td>Ruvuma / Southern Coast</td>\n",
              "      <td>Mahakamani</td>\n",
              "      <td>Mtwara</td>\n",
              "      <td>90</td>\n",
              "      <td>63</td>\n",
              "      <td>Nanyumbu</td>\n",
              "      <td>Nanyumbu</td>\n",
              "      <td>58</td>\n",
              "      <td>True</td>\n",
              "      <td>GeoData Consultants Ltd</td>\n",
              "      <td>VWC</td>\n",
              "      <td>NaN</td>\n",
              "      <td>True</td>\n",
              "      <td>1986</td>\n",
              "      <td>submersible</td>\n",
              "      <td>submersible</td>\n",
              "      <td>submersible</td>\n",
              "      <td>vwc</td>\n",
              "      <td>user-group</td>\n",
              "      <td>never pay</td>\n",
              "      <td>never pay</td>\n",
              "      <td>soft</td>\n",
              "      <td>good</td>\n",
              "      <td>dry</td>\n",
              "      <td>dry</td>\n",
              "      <td>machine dbh</td>\n",
              "      <td>borehole</td>\n",
              "      <td>groundwater</td>\n",
              "      <td>communal standpipe multiple</td>\n",
              "      <td>communal standpipe</td>\n",
              "    </tr>\n",
              "    <tr>\n",
              "      <th>4</th>\n",
              "      <td>19728</td>\n",
              "      <td>0.0</td>\n",
              "      <td>2011-07-13</td>\n",
              "      <td>Action In A</td>\n",
              "      <td>0</td>\n",
              "      <td>Artisan</td>\n",
              "      <td>31.130847</td>\n",
              "      <td>-1.825359</td>\n",
              "      <td>Shuleni</td>\n",
              "      <td>0</td>\n",
              "      <td>Lake Victoria</td>\n",
              "      <td>Kyanyamisa</td>\n",
              "      <td>Kagera</td>\n",
              "      <td>18</td>\n",
              "      <td>1</td>\n",
              "      <td>Karagwe</td>\n",
              "      <td>Nyakasimbi</td>\n",
              "      <td>0</td>\n",
              "      <td>True</td>\n",
              "      <td>GeoData Consultants Ltd</td>\n",
              "      <td>NaN</td>\n",
              "      <td>NaN</td>\n",
              "      <td>True</td>\n",
              "      <td>0</td>\n",
              "      <td>gravity</td>\n",
              "      <td>gravity</td>\n",
              "      <td>gravity</td>\n",
              "      <td>other</td>\n",
              "      <td>other</td>\n",
              "      <td>never pay</td>\n",
              "      <td>never pay</td>\n",
              "      <td>soft</td>\n",
              "      <td>good</td>\n",
              "      <td>seasonal</td>\n",
              "      <td>seasonal</td>\n",
              "      <td>rainwater harvesting</td>\n",
              "      <td>rainwater harvesting</td>\n",
              "      <td>surface</td>\n",
              "      <td>communal standpipe</td>\n",
              "      <td>communal standpipe</td>\n",
              "    </tr>\n",
              "  </tbody>\n",
              "</table>\n",
              "</div>"
            ],
            "text/plain": [
              "      id  amount_tsh date_recorded        funder  gps_height     installer  \\\n",
              "0  69572      6000.0    2011-03-14         Roman        1390         Roman   \n",
              "1   8776         0.0    2013-03-06       Grumeti        1399       GRUMETI   \n",
              "2  34310        25.0    2013-02-25  Lottery Club         686  World vision   \n",
              "3  67743         0.0    2013-01-28        Unicef         263        UNICEF   \n",
              "4  19728         0.0    2011-07-13   Action In A           0       Artisan   \n",
              "\n",
              "   longitude   latitude              wpt_name  num_private  \\\n",
              "0  34.938093  -9.856322                  none            0   \n",
              "1  34.698766  -2.147466              Zahanati            0   \n",
              "2  37.460664  -3.821329           Kwa Mahundi            0   \n",
              "3  38.486161 -11.155298  Zahanati Ya Nanyumbu            0   \n",
              "4  31.130847  -1.825359               Shuleni            0   \n",
              "\n",
              "                     basin  subvillage   region  region_code  district_code  \\\n",
              "0               Lake Nyasa    Mnyusi B   Iringa           11              5   \n",
              "1            Lake Victoria     Nyamara     Mara           20              2   \n",
              "2                  Pangani     Majengo  Manyara           21              4   \n",
              "3  Ruvuma / Southern Coast  Mahakamani   Mtwara           90             63   \n",
              "4            Lake Victoria  Kyanyamisa   Kagera           18              1   \n",
              "\n",
              "         lga        ward  population public_meeting              recorded_by  \\\n",
              "0     Ludewa    Mundindi         109           True  GeoData Consultants Ltd   \n",
              "1  Serengeti       Natta         280            NaN  GeoData Consultants Ltd   \n",
              "2  Simanjiro     Ngorika         250           True  GeoData Consultants Ltd   \n",
              "3   Nanyumbu    Nanyumbu          58           True  GeoData Consultants Ltd   \n",
              "4    Karagwe  Nyakasimbi           0           True  GeoData Consultants Ltd   \n",
              "\n",
              "  scheme_management                  scheme_name permit  construction_year  \\\n",
              "0               VWC                        Roman  False               1999   \n",
              "1             Other                          NaN   True               2010   \n",
              "2               VWC  Nyumba ya mungu pipe scheme   True               2009   \n",
              "3               VWC                          NaN   True               1986   \n",
              "4               NaN                          NaN   True                  0   \n",
              "\n",
              "  extraction_type extraction_type_group extraction_type_class management  \\\n",
              "0         gravity               gravity               gravity        vwc   \n",
              "1         gravity               gravity               gravity        wug   \n",
              "2         gravity               gravity               gravity        vwc   \n",
              "3     submersible           submersible           submersible        vwc   \n",
              "4         gravity               gravity               gravity      other   \n",
              "\n",
              "  management_group         payment payment_type water_quality quality_group  \\\n",
              "0       user-group    pay annually     annually          soft          good   \n",
              "1       user-group       never pay    never pay          soft          good   \n",
              "2       user-group  pay per bucket   per bucket          soft          good   \n",
              "3       user-group       never pay    never pay          soft          good   \n",
              "4            other       never pay    never pay          soft          good   \n",
              "\n",
              "       quantity quantity_group                source           source_type  \\\n",
              "0        enough         enough                spring                spring   \n",
              "1  insufficient   insufficient  rainwater harvesting  rainwater harvesting   \n",
              "2        enough         enough                   dam                   dam   \n",
              "3           dry            dry           machine dbh              borehole   \n",
              "4      seasonal       seasonal  rainwater harvesting  rainwater harvesting   \n",
              "\n",
              "  source_class              waterpoint_type waterpoint_type_group  \n",
              "0  groundwater           communal standpipe    communal standpipe  \n",
              "1      surface           communal standpipe    communal standpipe  \n",
              "2      surface  communal standpipe multiple    communal standpipe  \n",
              "3  groundwater  communal standpipe multiple    communal standpipe  \n",
              "4      surface           communal standpipe    communal standpipe  "
            ]
          },
          "execution_count": 4,
          "metadata": {},
          "output_type": "execute_result"
        }
      ],
      "source": [
        "print(df_features.shape)\n",
        "df_features.head()"
      ]
    },
    {
      "cell_type": "code",
      "execution_count": 5,
      "metadata": {
        "colab": {
          "base_uri": "https://localhost:8080/"
        },
        "id": "eoY6N_ro3W7A",
        "outputId": "861805c1-f7f0-4df9-c0d0-7b0aeb2d1329"
      },
      "outputs": [
        {
          "data": {
            "text/plain": [
              "id                         int64\n",
              "amount_tsh               float64\n",
              "date_recorded             object\n",
              "funder                    object\n",
              "gps_height                 int64\n",
              "installer                 object\n",
              "longitude                float64\n",
              "latitude                 float64\n",
              "wpt_name                  object\n",
              "num_private                int64\n",
              "basin                     object\n",
              "subvillage                object\n",
              "region                    object\n",
              "region_code                int64\n",
              "district_code              int64\n",
              "lga                       object\n",
              "ward                      object\n",
              "population                 int64\n",
              "public_meeting            object\n",
              "recorded_by               object\n",
              "scheme_management         object\n",
              "scheme_name               object\n",
              "permit                    object\n",
              "construction_year          int64\n",
              "extraction_type           object\n",
              "extraction_type_group     object\n",
              "extraction_type_class     object\n",
              "management                object\n",
              "management_group          object\n",
              "payment                   object\n",
              "payment_type              object\n",
              "water_quality             object\n",
              "quality_group             object\n",
              "quantity                  object\n",
              "quantity_group            object\n",
              "source                    object\n",
              "source_type               object\n",
              "source_class              object\n",
              "waterpoint_type           object\n",
              "waterpoint_type_group     object\n",
              "dtype: object"
            ]
          },
          "execution_count": 5,
          "metadata": {},
          "output_type": "execute_result"
        }
      ],
      "source": [
        "df_features.dtypes"
      ]
    },
    {
      "cell_type": "code",
      "execution_count": 6,
      "metadata": {
        "colab": {
          "base_uri": "https://localhost:8080/",
          "height": 224
        },
        "id": "JtGSxhy251Nd",
        "outputId": "6b7d0838-737b-4886-fb84-1e67ffd38f01"
      },
      "outputs": [
        {
          "name": "stdout",
          "output_type": "stream",
          "text": [
            "(59400, 2)\n"
          ]
        },
        {
          "data": {
            "text/html": [
              "<div>\n",
              "<style scoped>\n",
              "    .dataframe tbody tr th:only-of-type {\n",
              "        vertical-align: middle;\n",
              "    }\n",
              "\n",
              "    .dataframe tbody tr th {\n",
              "        vertical-align: top;\n",
              "    }\n",
              "\n",
              "    .dataframe thead th {\n",
              "        text-align: right;\n",
              "    }\n",
              "</style>\n",
              "<table border=\"1\" class=\"dataframe\">\n",
              "  <thead>\n",
              "    <tr style=\"text-align: right;\">\n",
              "      <th></th>\n",
              "      <th>id</th>\n",
              "      <th>status_group</th>\n",
              "    </tr>\n",
              "  </thead>\n",
              "  <tbody>\n",
              "    <tr>\n",
              "      <th>0</th>\n",
              "      <td>69572</td>\n",
              "      <td>functional</td>\n",
              "    </tr>\n",
              "    <tr>\n",
              "      <th>1</th>\n",
              "      <td>8776</td>\n",
              "      <td>functional</td>\n",
              "    </tr>\n",
              "    <tr>\n",
              "      <th>2</th>\n",
              "      <td>34310</td>\n",
              "      <td>functional</td>\n",
              "    </tr>\n",
              "    <tr>\n",
              "      <th>3</th>\n",
              "      <td>67743</td>\n",
              "      <td>non functional</td>\n",
              "    </tr>\n",
              "    <tr>\n",
              "      <th>4</th>\n",
              "      <td>19728</td>\n",
              "      <td>functional</td>\n",
              "    </tr>\n",
              "  </tbody>\n",
              "</table>\n",
              "</div>"
            ],
            "text/plain": [
              "      id    status_group\n",
              "0  69572      functional\n",
              "1   8776      functional\n",
              "2  34310      functional\n",
              "3  67743  non functional\n",
              "4  19728      functional"
            ]
          },
          "execution_count": 6,
          "metadata": {},
          "output_type": "execute_result"
        }
      ],
      "source": [
        "print(df_target.shape)\n",
        "df_target.head()"
      ]
    },
    {
      "cell_type": "code",
      "execution_count": 7,
      "metadata": {
        "id": "WOSI0Zam6Mrs"
      },
      "outputs": [],
      "source": [
        "df_pumps = df_features.merge(df_target, on=\"id\")"
      ]
    },
    {
      "cell_type": "markdown",
      "metadata": {
        "id": "cfQNIBFjSwPe"
      },
      "source": [
        "\"id\", \"recorded_by\" and \"funder\" columns were dropped because they dont represent a useful information."
      ]
    },
    {
      "cell_type": "code",
      "execution_count": 8,
      "metadata": {
        "colab": {
          "base_uri": "https://localhost:8080/"
        },
        "id": "0o9nVDFjW-ex",
        "outputId": "409816b5-f0af-4d1c-a350-014f655f5a08"
      },
      "outputs": [
        {
          "data": {
            "text/plain": [
              "0"
            ]
          },
          "execution_count": 8,
          "metadata": {},
          "output_type": "execute_result"
        }
      ],
      "source": [
        "# check duplicates\n",
        "df_pumps.duplicated().sum()"
      ]
    },
    {
      "cell_type": "code",
      "execution_count": 9,
      "metadata": {
        "id": "8PcEq9xosYaw"
      },
      "outputs": [],
      "source": [
        "# replace missing values that are not in nan format by nan\n",
        "df_pumps.replace([\"unknown\",\"None\"],np.nan,inplace=True)"
      ]
    },
    {
      "cell_type": "code",
      "execution_count": 10,
      "metadata": {
        "colab": {
          "base_uri": "https://localhost:8080/"
        },
        "id": "NJ_vModvWutP",
        "outputId": "8c0f3c58-0704-42a8-c972-a9caf30e4df0"
      },
      "outputs": [
        {
          "data": {
            "text/plain": [
              "funder               0.061229\n",
              "installer            0.061549\n",
              "wpt_name             0.000034\n",
              "subvillage           0.006246\n",
              "public_meeting       0.056128\n",
              "scheme_management    0.065286\n",
              "scheme_name          0.485017\n",
              "permit               0.051448\n",
              "management           0.009444\n",
              "management_group     0.009444\n",
              "payment              0.137323\n",
              "payment_type         0.137323\n",
              "water_quality        0.031582\n",
              "quality_group        0.031582\n",
              "quantity             0.013283\n",
              "quantity_group       0.013283\n",
              "source               0.001111\n",
              "source_class         0.004680\n",
              "dtype: float64"
            ]
          },
          "execution_count": 10,
          "metadata": {},
          "output_type": "execute_result"
        }
      ],
      "source": [
        "# normalized numbers of missing values\n",
        "sr_nan = (df_pumps.isna().sum())/df_pumps.shape[0]\n",
        "sr_nan[sr_nan!=0]"
      ]
    },
    {
      "cell_type": "code",
      "execution_count": 11,
      "metadata": {
        "id": "UaVfJM8vPFBe"
      },
      "outputs": [],
      "source": [
        "# drop unecessary columns\n",
        "df_pumps.drop(columns=[\"id\", \"recorded_by\", \"funder\"], inplace=True)"
      ]
    },
    {
      "cell_type": "code",
      "execution_count": 12,
      "metadata": {
        "id": "A4apBAOpPPBr"
      },
      "outputs": [],
      "source": [
        "def replace_nan_id(df, id, column):\n",
        "    index = df.index\n",
        "    values = df.groupby(id).first()[column]\n",
        "    values_dict = values.to_dict()\n",
        "    df_reindexed = df.set_index(id)\n",
        "    df_addressed = df_reindexed[column].fillna(values_dict).reset_index()\n",
        "    return df_addressed.reindex(index)[column]"
      ]
    },
    {
      "cell_type": "code",
      "execution_count": 13,
      "metadata": {
        "id": "r7sB0nY6hXwk"
      },
      "outputs": [],
      "source": [
        "# replace missing values depending on the ids\n",
        "sr_nan = (df_pumps.isna().sum())\n",
        "for c in sr_nan[sr_nan != 0].index:\n",
        "  if c != \"wpt_name\":\n",
        "    df_pumps[c] = replace_nan_id(df_pumps,\"wpt_name\",c)"
      ]
    },
    {
      "cell_type": "code",
      "execution_count": 14,
      "metadata": {
        "colab": {
          "base_uri": "https://localhost:8080/"
        },
        "id": "pq5fl2tFDhfz",
        "outputId": "9e810d4f-35ef-4c12-99d7-db37cdd1b60c"
      },
      "outputs": [
        {
          "data": {
            "text/plain": [
              "installer            0.039579\n",
              "wpt_name             0.000034\n",
              "subvillage           0.002896\n",
              "public_meeting       0.034646\n",
              "scheme_management    0.039848\n",
              "scheme_name          0.334007\n",
              "permit               0.033165\n",
              "management           0.005219\n",
              "management_group     0.005219\n",
              "payment              0.084562\n",
              "payment_type         0.084562\n",
              "water_quality        0.016246\n",
              "quality_group        0.016246\n",
              "quantity             0.007205\n",
              "quantity_group       0.007205\n",
              "source               0.000572\n",
              "source_class         0.002761\n",
              "dtype: float64"
            ]
          },
          "execution_count": 14,
          "metadata": {},
          "output_type": "execute_result"
        }
      ],
      "source": [
        "# display normalized number of missing values after replacement\n",
        "sr_nan = (df_pumps.isna().sum())/df_pumps.shape[0]\n",
        "sr_nan[sr_nan!=0]"
      ]
    },
    {
      "cell_type": "code",
      "execution_count": 15,
      "metadata": {
        "id": "Lejr8Zmt4w4P"
      },
      "outputs": [],
      "source": [
        "# change types\n",
        "cols_to_str = [\"construction_year\", \"num_private\", \"region_code\", \"district_code\"]\n",
        "df_pumps[cols_to_str] = df_pumps[cols_to_str].astype(str)\n",
        "cols_to_float = df_pumps.select_dtypes(\"int\").columns\n",
        "df_pumps[cols_to_float] = df_pumps[cols_to_float].astype(float)"
      ]
    },
    {
      "cell_type": "code",
      "execution_count": 16,
      "metadata": {
        "colab": {
          "base_uri": "https://localhost:8080/"
        },
        "id": "2YII1tySnri5",
        "outputId": "c5374337-5708-49f9-9a8c-9731b7a0a913"
      },
      "outputs": [
        {
          "name": "stdout",
          "output_type": "stream",
          "text": [
            "* installer: ['Roman' 'GRUMETI' 'World vision' ... 'Dina' 'brown' 'SELEPTA']\n",
            "* wpt_name: ['none' 'Zahanati' 'Kwa Mahundi' ... 'Kwa Yahona Kuvala' 'Mshoro'\n",
            " 'Kwa Mzee Lugawa']\n",
            "* num_private: ['0' '39' '5' '45' '6' '3' '698' '32' '15' '7' '25' '102' '1' '93' '14'\n",
            " '34' '120' '17' '213' '47' '8' '41' '80' '141' '20' '35' '131' '4' '22'\n",
            " '11' '87' '61' '65' '136' '2' '180' '38' '62' '9' '16' '23' '42' '24'\n",
            " '12' '668' '672' '58' '150' '280' '160' '50' '1776' '30' '27' '10' '94'\n",
            " '26' '450' '240' '755' '60' '111' '300' '55' '1402']\n",
            "* basin: ['Lake Nyasa' 'Lake Victoria' 'Pangani' 'Ruvuma / Southern Coast'\n",
            " 'Internal' 'Lake Tanganyika' 'Wami / Ruvu' 'Rufiji' 'Lake Rukwa']\n",
            "* subvillage: ['Mnyusi B' 'Nyamara' 'Majengo' ... 'Itete B' 'Maore Kati' 'Kikatanyemba']\n",
            "* region: ['Iringa' 'Mara' 'Manyara' 'Mtwara' 'Kagera' 'Tanga' 'Shinyanga' 'Tabora'\n",
            " 'Pwani' 'Ruvuma' 'Kilimanjaro' 'Rukwa' 'Mwanza' 'Kigoma' 'Lindi' 'Dodoma'\n",
            " 'Arusha' 'Mbeya' 'Singida' 'Morogoro' 'Dar es Salaam']\n",
            "* region_code: ['11' '20' '21' '90' '18' '4' '17' '14' '60' '10' '3' '15' '19' '16' '80'\n",
            " '1' '6' '2' '12' '13' '5' '7' '99' '24' '9' '8' '40']\n",
            "* district_code: ['5' '2' '4' '63' '1' '8' '3' '6' '43' '7' '23' '33' '53' '62' '60' '30'\n",
            " '13' '0' '80' '67']\n",
            "* lga: ['Ludewa' 'Serengeti' 'Simanjiro' 'Nanyumbu' 'Karagwe' 'Mkinga'\n",
            " 'Shinyanga Rural' 'Kahama' 'Tabora Urban' 'Mkuranga' 'Namtumbo' 'Maswa'\n",
            " 'Siha' 'Meatu' 'Sumbawanga Rural' 'Njombe' 'Ukerewe' 'Bariadi' 'Same'\n",
            " 'Kigoma Rural' 'Moshi Rural' 'Lindi Rural' 'Rombo' 'Chamwino' 'Bagamoyo'\n",
            " 'Mafia' 'Arusha Rural' 'Kyela' 'Kondoa' 'Kilolo' 'Kibondo' 'Makete'\n",
            " 'Singida Rural' 'Masasi' 'Rungwe' 'Moshi Urban' 'Geita' 'Mbulu'\n",
            " 'Bukoba Rural' 'Muheza' 'Lushoto' 'Meru' 'Iramba' 'Kilombero' 'Mbarali'\n",
            " 'Kasulu' 'Bukoba Urban' 'Korogwe' 'Bukombe' 'Morogoro Rural' 'Kishapu'\n",
            " 'Musoma Rural' 'Sengerema' 'Iringa Rural' 'Muleba' 'Dodoma Urban'\n",
            " 'Ruangwa' 'Hanang' 'Misenyi' 'Missungwi' 'Songea Rural' 'Tanga' 'Tunduru'\n",
            " 'Hai' 'Mwanga' 'Chato' 'Biharamulo' 'Ileje' 'Mpwapwa' 'Mvomero' 'Bunda'\n",
            " 'Kiteto' 'Longido' 'Urambo' 'Mbozi' 'Sikonge' 'Ilala' 'Tarime' 'Temeke'\n",
            " 'Mbeya Rural' 'Magu' 'Manyoni' 'Igunga' 'Kilosa' 'Babati' 'Chunya'\n",
            " 'Mufindi' 'Mtwara Rural' 'Ngara' 'Karatu' 'Mpanda' 'Kibaha'\n",
            " 'Singida Urban' 'Newala' 'Nzega' 'Nkasi' 'Bahi' 'Mbinga' 'Ulanga'\n",
            " 'Sumbawanga Urban' 'Morogoro Urban' 'Tandahimba' 'Kisarawe'\n",
            " 'Mtwara Urban' 'Kilwa' 'Liwale' 'Kongwa' 'Uyui' 'Rufiji' 'Kwimba'\n",
            " 'Monduli' 'Shinyanga Urban' 'Ngorongoro' 'Handeni' 'Rorya' 'Pangani'\n",
            " 'Lindi Urban' 'Nachingwea' 'Kinondoni' 'Kigoma Urban' 'Ilemela' 'Kilindi'\n",
            " 'Arusha Urban' 'Songea Urban' 'Nyamagana']\n",
            "* ward: ['Mundindi' 'Natta' 'Ngorika' ... 'Chinugulu' 'Nyamtinga' 'Kinungu']\n",
            "* public_meeting: [True None False]\n",
            "* scheme_management: ['VWC' 'Other' 'WUA' 'WUG' None 'Private operator' 'Water Board'\n",
            " 'Water authority' 'Company' 'Parastatal' 'Trust' 'SWC']\n",
            "* scheme_name: ['Roman' 'Olgilai pipe line' 'Nyumba ya mungu pipe scheme' ...\n",
            " 'BL Nsherehehe' 'Magati  gravity spri' 'Mtawanya']\n",
            "* permit: [False True None]\n",
            "* construction_year: ['1999' '2010' '2009' '1986' '0' '2011' '1987' '1991' '1978' '1992' '2008'\n",
            " '1974' '2000' '2002' '2004' '1972' '2003' '1980' '2007' '1973' '1985'\n",
            " '1970' '1995' '2006' '1962' '2005' '1997' '2012' '1996' '1977' '1983'\n",
            " '1984' '1990' '1982' '1976' '1988' '1989' '1975' '1960' '1961' '1998'\n",
            " '1963' '1971' '1994' '1968' '1993' '2001' '1979' '1967' '2013' '1969'\n",
            " '1981' '1964' '1966' '1965']\n",
            "* extraction_type: ['gravity' 'submersible' 'swn 80' 'nira/tanira' 'india mark ii' 'other'\n",
            " 'ksb' 'mono' 'windmill' 'afridev' 'other - rope pump' 'india mark iii'\n",
            " 'other - swn 81' 'other - play pump' 'cemo' 'climax' 'walimi'\n",
            " 'other - mkulima/shinyanga']\n",
            "* extraction_type_group: ['gravity' 'submersible' 'swn 80' 'nira/tanira' 'india mark ii' 'other'\n",
            " 'mono' 'wind-powered' 'afridev' 'rope pump' 'india mark iii'\n",
            " 'other handpump' 'other motorpump']\n",
            "* extraction_type_class: ['gravity' 'submersible' 'handpump' 'other' 'motorpump' 'wind-powered'\n",
            " 'rope pump']\n",
            "* management: ['vwc' 'wug' 'other' 'private operator' 'water board' 'wua' 'company'\n",
            " 'water authority' 'parastatal' None 'other - school' 'trust']\n",
            "* management_group: ['user-group' 'other' 'commercial' 'parastatal' None]\n",
            "* payment: ['pay annually' 'never pay' 'pay per bucket' 'pay monthly'\n",
            " 'pay when scheme fails' 'other' None]\n",
            "* payment_type: ['annually' 'never pay' 'per bucket' 'monthly' 'on failure' 'other' None]\n",
            "* water_quality: ['soft' 'salty' 'milky' None 'fluoride' 'coloured' 'salty abandoned'\n",
            " 'fluoride abandoned']\n",
            "* quality_group: ['good' 'salty' 'milky' None 'fluoride' 'colored']\n",
            "* quantity: ['enough' 'insufficient' 'dry' 'seasonal' None]\n",
            "* quantity_group: ['enough' 'insufficient' 'dry' 'seasonal' None]\n",
            "* source: ['spring' 'rainwater harvesting' 'dam' 'machine dbh' 'other'\n",
            " 'shallow well' 'river' 'hand dtw' 'lake' None]\n",
            "* source_type: ['spring' 'rainwater harvesting' 'dam' 'borehole' 'other' 'shallow well'\n",
            " 'river/lake']\n",
            "* source_class: ['groundwater' 'surface' None]\n",
            "* waterpoint_type: ['communal standpipe' 'communal standpipe multiple' 'hand pump' 'other'\n",
            " 'improved spring' 'cattle trough' 'dam']\n",
            "* waterpoint_type_group: ['communal standpipe' 'hand pump' 'other' 'improved spring'\n",
            " 'cattle trough' 'dam']\n",
            "* status_group: ['functional' 'non functional' 'functional needs repair']\n"
          ]
        }
      ],
      "source": [
        "# check for inconsistencies in classes\n",
        "cat_cols = df_pumps.select_dtypes(\"object\").columns.delete(0)\n",
        "for c in cat_cols :\n",
        "  print(f\"* {c}: {df_pumps[c].unique()}\")"
      ]
    },
    {
      "cell_type": "code",
      "execution_count": 17,
      "metadata": {
        "id": "sxSGN0_k2ets"
      },
      "outputs": [],
      "source": [
        "# change values other than 0 to 1 for num_private feature\n",
        "df_pumps[\"num_private\"] = df_pumps[\"num_private\"].apply(lambda x : \"0\" if  x == \"0\" else \"1\")"
      ]
    },
    {
      "cell_type": "code",
      "execution_count": 18,
      "metadata": {
        "colab": {
          "base_uri": "https://localhost:8080/"
        },
        "id": "NXqPiYV1bHRz",
        "outputId": "fd8f7166-2a0b-442e-9422-05b4a47de819"
      },
      "outputs": [
        {
          "name": "stdout",
          "output_type": "stream",
          "text": [
            "installer: 2145\n",
            "wpt_name: 37400\n",
            "num_private: 2\n",
            "basin: 9\n",
            "subvillage: 19288\n",
            "region: 21\n",
            "region_code: 27\n",
            "district_code: 20\n",
            "lga: 125\n",
            "ward: 2092\n",
            "public_meeting: 3\n",
            "scheme_management: 12\n",
            "scheme_name: 2696\n",
            "permit: 3\n",
            "construction_year: 55\n",
            "extraction_type: 18\n",
            "extraction_type_group: 13\n",
            "extraction_type_class: 7\n",
            "management: 12\n",
            "management_group: 5\n",
            "payment: 7\n",
            "payment_type: 7\n",
            "water_quality: 8\n",
            "quality_group: 6\n",
            "quantity: 5\n",
            "quantity_group: 5\n",
            "source: 10\n",
            "source_type: 7\n",
            "source_class: 3\n",
            "waterpoint_type: 7\n",
            "waterpoint_type_group: 6\n",
            "status_group: 3\n"
          ]
        }
      ],
      "source": [
        "# categorical features cardinalities\n",
        "cat_cols = df_pumps.select_dtypes(\"object\").columns.delete(0)\n",
        "for e in cat_cols :\n",
        "  print(f\"{e}: {len(df_pumps[e].unique())}\")"
      ]
    },
    {
      "cell_type": "code",
      "execution_count": 19,
      "metadata": {
        "colab": {
          "base_uri": "https://localhost:8080/"
        },
        "id": "FHtnBRjnkL_s",
        "outputId": "4b364254-b659-44ac-8791-ee4403073737"
      },
      "outputs": [
        {
          "name": "stdout",
          "output_type": "stream",
          "text": [
            "* installer:\n",
            "DWE              17775\n",
            "None              2351\n",
            "Government        1905\n",
            "RWE               1236\n",
            "Commu             1079\n",
            "                 ...  \n",
            "CCP                  1\n",
            "Tasaf and Lga        1\n",
            "WA                   1\n",
            "Insititutiona        1\n",
            "SELEPTA              1\n",
            "Name: installer, Length: 2145, dtype: int64\n",
            "\n",
            "* wpt_name:\n",
            "none                       3563\n",
            "Shuleni                    1748\n",
            "Zahanati                    830\n",
            "Msikitini                   535\n",
            "Kanisani                    323\n",
            "                           ... \n",
            "Kwa Medadi                    1\n",
            "Kwa Kubembeni                 1\n",
            "Shule Ya Msingi Milanzi       1\n",
            "Funua                         1\n",
            "Kwa Mzee Lugawa               1\n",
            "Name: wpt_name, Length: 37400, dtype: int64\n",
            "\n",
            "* num_private:\n",
            "0    58643\n",
            "1      757\n",
            "Name: num_private, dtype: int64\n",
            "\n",
            "* basin:\n",
            "Lake Victoria              10248\n",
            "Pangani                     8940\n",
            "Rufiji                      7976\n",
            "Internal                    7785\n",
            "Lake Tanganyika             6432\n",
            "Wami / Ruvu                 5987\n",
            "Lake Nyasa                  5085\n",
            "Ruvuma / Southern Coast     4493\n",
            "Lake Rukwa                  2454\n",
            "Name: basin, dtype: int64\n",
            "\n",
            "* subvillage:\n",
            "Madukani        511\n",
            "Shuleni         508\n",
            "Majengo         503\n",
            "Kati            374\n",
            "Mtakuja         262\n",
            "               ... \n",
            "Chandulik         1\n",
            "Irkandrio         1\n",
            "Muyamuya          1\n",
            "Mwajalala         1\n",
            "Kikatanyemba      1\n",
            "Name: subvillage, Length: 19288, dtype: int64\n",
            "\n",
            "* region:\n",
            "Iringa           5294\n",
            "Shinyanga        4982\n",
            "Mbeya            4639\n",
            "Kilimanjaro      4379\n",
            "Morogoro         4006\n",
            "Arusha           3350\n",
            "Kagera           3316\n",
            "Mwanza           3102\n",
            "Kigoma           2816\n",
            "Ruvuma           2640\n",
            "Pwani            2635\n",
            "Tanga            2547\n",
            "Dodoma           2201\n",
            "Singida          2093\n",
            "Mara             1969\n",
            "Tabora           1959\n",
            "Rukwa            1808\n",
            "Mtwara           1730\n",
            "Manyara          1583\n",
            "Lindi            1546\n",
            "Dar es Salaam     805\n",
            "Name: region, dtype: int64\n",
            "\n",
            "* region_code:\n",
            "11    5300\n",
            "17    5011\n",
            "12    4639\n",
            "3     4379\n",
            "5     4040\n",
            "18    3324\n",
            "19    3047\n",
            "2     3024\n",
            "16    2816\n",
            "10    2640\n",
            "4     2513\n",
            "1     2201\n",
            "13    2093\n",
            "14    1979\n",
            "20    1969\n",
            "15    1808\n",
            "6     1609\n",
            "21    1583\n",
            "80    1238\n",
            "60    1025\n",
            "90     917\n",
            "7      805\n",
            "99     423\n",
            "9      390\n",
            "24     326\n",
            "8      300\n",
            "40       1\n",
            "Name: region_code, dtype: int64\n",
            "\n",
            "* district_code:\n",
            "1     12203\n",
            "2     11173\n",
            "3      9998\n",
            "4      8999\n",
            "5      4356\n",
            "6      4074\n",
            "7      3343\n",
            "8      1043\n",
            "30      995\n",
            "33      874\n",
            "53      745\n",
            "43      505\n",
            "13      391\n",
            "23      293\n",
            "63      195\n",
            "62      109\n",
            "60       63\n",
            "0        23\n",
            "80       12\n",
            "67        6\n",
            "Name: district_code, dtype: int64\n",
            "\n",
            "* lga:\n",
            "Njombe          2503\n",
            "Arusha Rural    1252\n",
            "Moshi Rural     1251\n",
            "Bariadi         1177\n",
            "Rungwe          1106\n",
            "                ... \n",
            "Moshi Urban       79\n",
            "Kigoma Urban      71\n",
            "Arusha Urban      63\n",
            "Lindi Urban       21\n",
            "Nyamagana          1\n",
            "Name: lga, Length: 125, dtype: int64\n",
            "\n",
            "* ward:\n",
            "Igosi              307\n",
            "Imalinyi           252\n",
            "Siha Kati          232\n",
            "Mdandu             231\n",
            "Nduruma            217\n",
            "                  ... \n",
            "Uchindile            1\n",
            "Thawi                1\n",
            "Uwanja wa Ndege      1\n",
            "Izia                 1\n",
            "Kinungu              1\n",
            "Name: ward, Length: 2092, dtype: int64\n",
            "\n",
            "* public_meeting:\n",
            "True     52145\n",
            "False     5197\n",
            "None      2058\n",
            "Name: public_meeting, dtype: int64\n",
            "\n",
            "* scheme_management:\n",
            "VWC                 37714\n",
            "WUG                  5417\n",
            "Water authority      3220\n",
            "WUA                  3074\n",
            "Water Board          2775\n",
            "None                 2367\n",
            "Parastatal           1687\n",
            "Private operator     1074\n",
            "Company              1072\n",
            "Other                 831\n",
            "SWC                    97\n",
            "Trust                  72\n",
            "Name: scheme_management, dtype: int64\n",
            "\n",
            "* scheme_name:\n",
            "None                           19840\n",
            "wanging'ombe water supply s     1269\n",
            "Roman                            921\n",
            "Borehole                         749\n",
            "K                                732\n",
            "                               ...  \n",
            "Thobias Main Branch line           1\n",
            "Kwasenenge Group                   1\n",
            "AMRSF                              1\n",
            "Mkeyui streem                      1\n",
            "Mtawanya                           1\n",
            "Name: scheme_name, Length: 2696, dtype: int64\n",
            "\n",
            "* permit:\n",
            "True     39644\n",
            "False    17786\n",
            "None      1970\n",
            "Name: permit, dtype: int64\n",
            "\n",
            "* construction_year:\n",
            "0       20709\n",
            "2010     2645\n",
            "2008     2613\n",
            "2009     2533\n",
            "2000     2091\n",
            "2007     1587\n",
            "2006     1471\n",
            "2003     1286\n",
            "2011     1256\n",
            "2004     1123\n",
            "2012     1084\n",
            "2002     1075\n",
            "1978     1037\n",
            "1995     1014\n",
            "2005     1011\n",
            "1999      979\n",
            "1998      966\n",
            "1990      954\n",
            "1985      945\n",
            "1980      811\n",
            "1996      811\n",
            "1984      779\n",
            "1982      744\n",
            "1994      738\n",
            "1972      708\n",
            "1974      676\n",
            "1997      644\n",
            "1992      640\n",
            "1993      608\n",
            "2001      540\n",
            "1988      521\n",
            "1983      488\n",
            "1975      437\n",
            "1986      434\n",
            "1976      414\n",
            "1970      411\n",
            "1991      324\n",
            "1989      316\n",
            "1987      302\n",
            "1981      238\n",
            "1977      202\n",
            "1979      192\n",
            "1973      184\n",
            "2013      176\n",
            "1971      145\n",
            "1960      102\n",
            "1967       88\n",
            "1963       85\n",
            "1968       77\n",
            "1969       59\n",
            "1964       40\n",
            "1962       30\n",
            "1961       21\n",
            "1965       19\n",
            "1966       17\n",
            "Name: construction_year, dtype: int64\n",
            "\n",
            "* extraction_type:\n",
            "gravity                      26780\n",
            "nira/tanira                   8154\n",
            "other                         6430\n",
            "submersible                   4764\n",
            "swn 80                        3670\n",
            "mono                          2865\n",
            "india mark ii                 2400\n",
            "afridev                       1770\n",
            "ksb                           1415\n",
            "other - rope pump              451\n",
            "other - swn 81                 229\n",
            "windmill                       117\n",
            "india mark iii                  98\n",
            "cemo                            90\n",
            "other - play pump               85\n",
            "walimi                          48\n",
            "climax                          32\n",
            "other - mkulima/shinyanga        2\n",
            "Name: extraction_type, dtype: int64\n",
            "\n",
            "* extraction_type_group:\n",
            "gravity            26780\n",
            "nira/tanira         8154\n",
            "other               6430\n",
            "submersible         6179\n",
            "swn 80              3670\n",
            "mono                2865\n",
            "india mark ii       2400\n",
            "afridev             1770\n",
            "rope pump            451\n",
            "other handpump       364\n",
            "other motorpump      122\n",
            "wind-powered         117\n",
            "india mark iii        98\n",
            "Name: extraction_type_group, dtype: int64\n",
            "\n",
            "* extraction_type_class:\n",
            "gravity         26780\n",
            "handpump        16456\n",
            "other            6430\n",
            "submersible      6179\n",
            "motorpump        2987\n",
            "rope pump         451\n",
            "wind-powered      117\n",
            "Name: extraction_type_class, dtype: int64\n",
            "\n",
            "* management:\n",
            "vwc                 40668\n",
            "wug                  6559\n",
            "water board          2935\n",
            "wua                  2539\n",
            "private operator     1975\n",
            "parastatal           1773\n",
            "water authority       906\n",
            "other                 872\n",
            "company               686\n",
            "None                  310\n",
            "other - school         99\n",
            "trust                  78\n",
            "Name: management, dtype: int64\n",
            "\n",
            "* management_group:\n",
            "user-group    52701\n",
            "commercial     3645\n",
            "parastatal     1773\n",
            "other           971\n",
            "None            310\n",
            "Name: management_group, dtype: int64\n",
            "\n",
            "* payment:\n",
            "never pay                27093\n",
            "pay per bucket            9633\n",
            "pay monthly               8727\n",
            "None                      5023\n",
            "pay when scheme fails     4012\n",
            "pay annually              3774\n",
            "other                     1138\n",
            "Name: payment, dtype: int64\n",
            "\n",
            "* payment_type:\n",
            "never pay     27093\n",
            "per bucket     9633\n",
            "monthly        8727\n",
            "None           5023\n",
            "on failure     4012\n",
            "annually       3774\n",
            "other          1138\n",
            "Name: payment_type, dtype: int64\n",
            "\n",
            "* water_quality:\n",
            "soft                  51604\n",
            "salty                  4934\n",
            "None                    965\n",
            "milky                   816\n",
            "coloured                520\n",
            "salty abandoned         341\n",
            "fluoride                203\n",
            "fluoride abandoned       17\n",
            "Name: water_quality, dtype: int64\n",
            "\n",
            "* quality_group:\n",
            "good        51604\n",
            "salty        5275\n",
            "None          965\n",
            "milky         816\n",
            "colored       520\n",
            "fluoride      220\n",
            "Name: quality_group, dtype: int64\n",
            "\n",
            "* quantity:\n",
            "enough          33336\n",
            "insufficient    15232\n",
            "dry              6289\n",
            "seasonal         4115\n",
            "None              428\n",
            "Name: quantity, dtype: int64\n",
            "\n",
            "* quantity_group:\n",
            "enough          33336\n",
            "insufficient    15232\n",
            "dry              6289\n",
            "seasonal         4115\n",
            "None              428\n",
            "Name: quantity_group, dtype: int64\n",
            "\n",
            "* source:\n",
            "spring                  17028\n",
            "shallow well            16838\n",
            "machine dbh             11081\n",
            "river                    9614\n",
            "rainwater harvesting     2296\n",
            "hand dtw                  874\n",
            "lake                      766\n",
            "dam                       657\n",
            "other                     212\n",
            "None                       34\n",
            "Name: source, dtype: int64\n",
            "\n",
            "* source_type:\n",
            "spring                  17021\n",
            "shallow well            16824\n",
            "borehole                11949\n",
            "river/lake              10377\n",
            "rainwater harvesting     2295\n",
            "dam                       656\n",
            "other                     278\n",
            "Name: source_type, dtype: int64\n",
            "\n",
            "* source_class:\n",
            "groundwater    45885\n",
            "surface        13351\n",
            "None             164\n",
            "Name: source_class, dtype: int64\n",
            "\n",
            "* waterpoint_type:\n",
            "communal standpipe             28522\n",
            "hand pump                      17488\n",
            "other                           6380\n",
            "communal standpipe multiple     6103\n",
            "improved spring                  784\n",
            "cattle trough                    116\n",
            "dam                                7\n",
            "Name: waterpoint_type, dtype: int64\n",
            "\n",
            "* waterpoint_type_group:\n",
            "communal standpipe    34625\n",
            "hand pump             17488\n",
            "other                  6380\n",
            "improved spring         784\n",
            "cattle trough           116\n",
            "dam                       7\n",
            "Name: waterpoint_type_group, dtype: int64\n",
            "\n",
            "* status_group:\n",
            "functional                 32259\n",
            "non functional             22824\n",
            "functional needs repair     4317\n",
            "Name: status_group, dtype: int64\n",
            "\n"
          ]
        }
      ],
      "source": [
        "for c in cat_cols:\n",
        "  print(f\"* {c}:\\n{df_pumps[c].value_counts(dropna=False)}\\n\")"
      ]
    },
    {
      "cell_type": "code",
      "execution_count": 20,
      "metadata": {
        "id": "8mlvL6ZwIHn4"
      },
      "outputs": [],
      "source": [
        "# check identical values in two columns\n",
        "def   check_identical_columns(data,c1,c2,include_na=False) :\n",
        "          data.reset_index(drop=True,inplace=True)\n",
        "          data = data.astype(str).apply(lambda x: x.str.lower())\n",
        "          n = data.shape[0]\n",
        "          j = 0\n",
        "          for i in range(n):\n",
        "            if data.loc[i,c1] == data.loc[i,c2] :\n",
        "                j += 1\n",
        "            if include_na :\n",
        "                if np.isnan(data.loc[i,c1]) | np.isnan(data.loc[i,c2]) :\n",
        "                  j += 1\n",
        "          return j/n"
      ]
    },
    {
      "cell_type": "code",
      "execution_count": 21,
      "metadata": {
        "colab": {
          "base_uri": "https://localhost:8080/"
        },
        "id": "70kLWihwJ5Xo",
        "outputId": "0dfc1666-3339-4d5f-f65e-4e1581549814"
      },
      "outputs": [
        {
          "name": "stdout",
          "output_type": "stream",
          "text": [
            "extraction_type / extraction_type_group : 0.9584343434343434\n",
            "extraction_type / extraction_type_class : 0.6392929292929292\n",
            "payment / payment_type : 0.5598316498316498\n",
            "water_quality / quality_group : 0.11646464646464647\n",
            "quantity / quantity_group : 1.0\n",
            "source / source_type : 0.623030303030303\n",
            "waterpoint_type / waterpoint_type_group : 0.8972558922558923\n",
            "scheme_management / management : 0.849915824915825\n"
          ]
        }
      ],
      "source": [
        "# check columns that seem to present same information\n",
        "print(\"extraction_type / extraction_type_group :\",check_identical_columns(df_pumps,\"extraction_type\",\"extraction_type_group\"))\n",
        "print(\"extraction_type / extraction_type_class :\",check_identical_columns(df_pumps,\"extraction_type\",\"extraction_type_class\"))\n",
        "print(\"payment / payment_type :\",check_identical_columns(df_pumps,\"payment\",\"payment_type\"))\n",
        "print(\"water_quality / quality_group :\",check_identical_columns(df_pumps,\"water_quality\",\"quality_group\"))\n",
        "print(\"quantity / quantity_group :\",check_identical_columns(df_pumps,\"quantity\",\"quantity_group\"))\n",
        "print(\"source / source_type :\",check_identical_columns(df_pumps,\"source\",\"source_type\"))\n",
        "print(\"waterpoint_type / waterpoint_type_group :\",check_identical_columns(df_pumps,\"waterpoint_type\",\"waterpoint_type_group\"))\n",
        "print(\"scheme_management / management :\",check_identical_columns(df_pumps,\"scheme_management\",\"management\"))"
      ]
    },
    {
      "cell_type": "markdown",
      "metadata": {
        "id": "cisTi6Vv3gBp"
      },
      "source": [
        "Except the \"water_quality / quality_group\" pair, columns in each these pairs represent almost the same information so we can the parent features."
      ]
    },
    {
      "cell_type": "code",
      "execution_count": 22,
      "metadata": {
        "id": "ZOj3Byiy5X7L"
      },
      "outputs": [],
      "source": [
        "# drop useless features\n",
        "df_pumps.drop(columns=[\"extraction_type_group\",\"extraction_type_class\",\"payment_type\",\"quantity_group\",\"source_type\",\"waterpoint_type_group\",\"scheme_management\"],inplace=True)"
      ]
    },
    {
      "cell_type": "code",
      "execution_count": 23,
      "metadata": {
        "colab": {
          "base_uri": "https://localhost:8080/",
          "height": 497
        },
        "id": "WricxWk-AIA5",
        "outputId": "bd33eeef-cd0b-4057-89c2-95af75ff558b"
      },
      "outputs": [
        {
          "data": {
            "text/plain": [
              "Text(0.5, 1.0, 'water_quality VS quality_group')"
            ]
          },
          "execution_count": 23,
          "metadata": {},
          "output_type": "execute_result"
        },
        {
          "data": {
            "image/png": "[encoded data removed]",
            "text/plain": [
              "<Figure size 640x480 with 2 Axes>"
            ]
          },
          "metadata": {},
          "output_type": "display_data"
        }
      ],
      "source": [
        "# display contingency matrix for \"water_quality\" and \"quality_group\" features\n",
        "contingency_table = pd.crosstab(df_pumps['water_quality'], df_pumps['quality_group'])\n",
        "sns.heatmap(contingency_table, fmt=\"d\", annot=True, cmap=\"Greens\")\n",
        "plt.title(\"water_quality VS quality_group\")"
      ]
    },
    {
      "cell_type": "markdown",
      "metadata": {
        "id": "D699lmNbBFvK"
      },
      "source": [
        "these two features represent almost the same information so we can drop the \"quality group\" column (it provide slightly less detailed information)"
      ]
    },
    {
      "cell_type": "code",
      "execution_count": 24,
      "metadata": {
        "id": "nIXQDEqpzQvB"
      },
      "outputs": [],
      "source": [
        "# drop \"quality_group\" feature\n",
        "df_pumps.drop(columns=\"quality_group\",inplace=True)"
      ]
    },
    {
      "cell_type": "code",
      "execution_count": 25,
      "metadata": {
        "id": "V9X8IFcD8--I"
      },
      "outputs": [],
      "source": [
        "def combine_classes(data, features, treshold, rep_class, special_classes=[]):\n",
        "  data[features] = data[features].replace(special_classes, rep_class)\n",
        "  for cf in features:\n",
        "      cardinal_classes = data[cf].value_counts()\n",
        "      n_classes = len(data[cf].dropna().unique())\n",
        "      if n_classes==1:\n",
        "          data.drop(columns=cf, inplace=True)\n",
        "          print(f'- \"{cf}\" feature was dropped, it is constant')\n",
        "      class_to_rep = cardinal_classes[cardinal_classes<treshold].index\n",
        "      n_class_to_rep = len(class_to_rep)\n",
        "      if n_class_to_rep != 0:\n",
        "          n = n_classes - n_class_to_rep\n",
        "          if n==0 :\n",
        "              data.drop(columns=cf, inplace=True)\n",
        "              print(f'- \"{cf}\" feature was dropped, all classes are not representative')\n",
        "          else:\n",
        "              data[cf] = data[cf].replace(class_to_rep, rep_class)\n",
        "              if (n==1) and (data[cf].value_counts()[rep_class] < treshold):\n",
        "                  data.drop(columns=cf, inplace=True)\n",
        "                  print(f'- \"{cf}\" feature was dropped, minority class is not representative')\n",
        "              elif data[cf].value_counts()[rep_class] < treshold:\n",
        "                  last_class_over_tresh = cardinal_classes[cardinal_classes>=treshold].index[-1]\n",
        "                  data[cf] = data[cf].replace(last_class_over_tresh, rep_class)\n",
        "                  print(f'- \"{last_class_over_tresh}\" class of the \"{cf}\" feature has been changed to \"{rep_class}\"')"
      ]
    },
    {
      "cell_type": "code",
      "execution_count": 26,
      "metadata": {
        "colab": {
          "base_uri": "https://localhost:8080/"
        },
        "id": "bJtyqIXZCOHk",
        "outputId": "19efeb06-7a6d-4096-de59-081d47a89b6e"
      },
      "outputs": [
        {
          "name": "stdout",
          "output_type": "stream",
          "text": [
            "- \"num_private\" feature was dropped, minority class is not representative\n",
            "- \"subvillage\" feature was dropped, all classes are not representative\n",
            "- \"Lindi\" class of the \"region\" feature has been changed to \"other\"\n",
            "- \"ward\" feature was dropped, all classes are not representative\n",
            "- \"parastatal\" class of the \"management_group\" feature has been changed to \"other\"\n"
          ]
        }
      ],
      "source": [
        "# combine classes\n",
        "cat_cols = df_pumps.select_dtypes(\"object\").columns.delete([0, 14])\n",
        "combine_classes(df_pumps, cat_cols, 1000, \"other\", [\"Other\"])"
      ]
    },
    {
      "cell_type": "code",
      "execution_count": 27,
      "metadata": {
        "colab": {
          "base_uri": "https://localhost:8080/",
          "height": 1000
        },
        "id": "_9CqCo82jp8H",
        "outputId": "b6e3cc25-52f5-434c-d02a-837064bb6a50"
      },
      "outputs": [
        {
          "data": {
            "image/png": "[encoded data removed]",
            "text/plain": [
              "<Figure size 600x400 with 2 Axes>"
            ]
          },
          "metadata": {},
          "output_type": "display_data"
        },
        {
          "data": {
            "image/png": "[encoded data removed]",
            "text/plain": [
              "<Figure size 600x400 with 2 Axes>"
            ]
          },
          "metadata": {},
          "output_type": "display_data"
        },
        {
          "data": {
            "image/png": "[encoded data removed]",
            "text/plain": [
              "<Figure size 600x400 with 2 Axes>"
            ]
          },
          "metadata": {},
          "output_type": "display_data"
        },
        {
          "data": {
            "image/png": "[encoded data removed]",
            "text/plain": [
              "<Figure size 600x400 with 2 Axes>"
            ]
          },
          "metadata": {},
          "output_type": "display_data"
        }
      ],
      "source": [
        "# histograms and boxplots of numerical variables\n",
        "num_cols = df_pumps.select_dtypes(\"float\").columns.delete(0)\n",
        "for c in num_cols:\n",
        "  gridspec = {'height_ratios':[0.8,0.2]}\n",
        "  fig, axes = plt.subplots(nrows=2, figsize=(6,4),\n",
        "                           sharex=True, gridspec_kw=gridspec)\n",
        "  sns.histplot(data=df_pumps, x=c, color=\"#5C6BC0\", alpha=0.8, ax=axes[0])\n",
        "  sns.boxplot(data=df_pumps, x=c, color=\"#5C6BC0\", boxprops=dict(alpha=0.8),\n",
        "              ax=axes[1])\n",
        "  axes[0].grid(axis=\"x\")\n",
        "  fig.tight_layout()\n",
        "  plt.show()"
      ]
    },
    {
      "cell_type": "code",
      "execution_count": 28,
      "metadata": {
        "colab": {
          "base_uri": "https://localhost:8080/",
          "height": 549
        },
        "id": "S-VvnFAoE6ci",
        "outputId": "9645124b-4668-40c0-85aa-7f125bb66530"
      },
      "outputs": [
        {
          "data": {
            "text/plain": [
              "Text(0.5, 1.0, 'Numerical Features Correlations')"
            ]
          },
          "execution_count": 28,
          "metadata": {},
          "output_type": "execute_result"
        },
        {
          "data": {
            "image/png": "[encoded data removed]",
            "text/plain": [
              "<Figure size 640x480 with 2 Axes>"
            ]
          },
          "metadata": {},
          "output_type": "display_data"
        }
      ],
      "source": [
        "# numerical variables correlations\n",
        "corr_matrix = df_pumps.corr()\n",
        "sns.heatmap(corr_matrix, annot=True, fmt=\".2f\", cmap=\"Greens\", vmin=0, vmax=1)\n",
        "plt.title(\"Numerical Features Correlations\")"
      ]
    },
    {
      "cell_type": "markdown",
      "metadata": {
        "id": "yGUQhCv5DWJh"
      },
      "source": [
        "There is no correlation between each pair of numerical features"
      ]
    },
    {
      "cell_type": "markdown",
      "metadata": {
        "id": "v8IBP6ZHTi2n"
      },
      "source": [
        "# Feature Engineering"
      ]
    },
    {
      "cell_type": "code",
      "execution_count": 29,
      "metadata": {
        "id": "hM20EXJs4ehq"
      },
      "outputs": [],
      "source": [
        "df_pumps[\"construction_year\"] = df_pumps[\"construction_year\"].astype(float)\n",
        "mean_year =  df_pumps[\"construction_year\"][df_pumps[\"construction_year\"]!=0].mean().round(0)\n",
        "df_pumps[\"construction_year\"].replace(0,mean_year,inplace=True)"
      ]
    },
    {
      "cell_type": "code",
      "execution_count": 30,
      "metadata": {
        "id": "fieVeNrA91YI"
      },
      "outputs": [],
      "source": [
        "# create a feature for operating time\n",
        "df_pumps[\"record_year\"] = pd.to_datetime(df_pumps.date_recorded).dt.year\n",
        "df_pumps[\"operating_time\"] = df_pumps[\"record_year\"] - df_pumps[\"construction_year\"].astype(\"float\")\n",
        "df_pumps.drop(columns=[\"date_recorded\",\"record_year\",\"construction_year\"],inplace=True)"
      ]
    },
    {
      "cell_type": "markdown",
      "metadata": {
        "id": "cCJ4ivB6TAcI"
      },
      "source": [
        "# Data Explanation"
      ]
    },
    {
      "cell_type": "code",
      "execution_count": 31,
      "metadata": {
        "colab": {
          "base_uri": "https://localhost:8080/",
          "height": 542
        },
        "id": "JCXpcYLDIvK8",
        "outputId": "838e7c4b-696f-48f4-e978-2c5f513dafd9"
      },
      "outputs": [
        {
          "data": {
            "image/png": "[encoded data removed]",
            "text/plain": [
              "<Figure size 600x600 with 1 Axes>"
            ]
          },
          "metadata": {},
          "output_type": "display_data"
        }
      ],
      "source": [
        "df_filtred_ot = df_pumps[df_pumps.operating_time>45]\n",
        "df_filtred_ot[\"Number_of_states\"] = 1\n",
        "df_filtred_ot = df_filtred_ot.groupby(\"status_group\",as_index=False).sum()\n",
        "plt.figure(figsize=(6,6))\n",
        "plt.pie(df_filtred_ot[\"Number_of_states\"], labels=df_filtred_ot[\"status_group\"], autopct='%.0f%%')\n",
        "plt.title(\"Machine states distribution\\n when operating over 45 years\")\n",
        "plt.show()"
      ]
    },
    {
      "cell_type": "markdown",
      "metadata": {
        "id": "ssaIVawTY5FJ"
      },
      "source": [
        "The magority of pumps states is non functional when the pump is oprating over 45 years so there is high risk of failure over this operating period."
      ]
    },
    {
      "cell_type": "code",
      "execution_count": 32,
      "metadata": {
        "colab": {
          "base_uri": "https://localhost:8080/",
          "height": 619
        },
        "id": "azyrd8msvKXN",
        "outputId": "d40ea836-b278-4d43-ed49-ea925f725779"
      },
      "outputs": [
        {
          "data": {
            "image/png": "[encoded data removed]",
            "text/plain": [
              "<Figure size 700x700 with 1 Axes>"
            ]
          },
          "metadata": {},
          "output_type": "display_data"
        }
      ],
      "source": [
        "df_filtred_sg = (df_pumps[df_pumps.status_group==\"non functional\"]).dropna()\n",
        "df_filtred_sg[\"Number_of_states\"] = 1\n",
        "df_filtred_sg = df_filtred_sg.groupby(\"management\", as_index=False).sum()\n",
        "plt.figure(figsize=(7,7))\n",
        "plt.pie(df_filtred_sg[\"Number_of_states\"], labels=df_filtred_sg[\"management\"], autopct='%.0f%%')\n",
        "plt.title(\"Distribution of non fonctional pumps\\nstates over the management types\")\n",
        "plt.show()"
      ]
    },
    {
      "cell_type": "markdown",
      "metadata": {
        "id": "vk5pGiUZ0FSQ"
      },
      "source": [
        "The majority of non functional states are vwc managed. So it's most likely that there is a problem with this type of management."
      ]
    },
    {
      "cell_type": "markdown",
      "metadata": {
        "id": "sWv_95u3lXrH"
      },
      "source": [
        "# Modeling & Data Preprocessing"
      ]
    },
    {
      "cell_type": "code",
      "execution_count": 33,
      "metadata": {
        "id": "Pg73mQlF_DZK"
      },
      "outputs": [],
      "source": [
        "# define features and target\n",
        "X = df_pumps.drop(columns=\"status_group\")\n",
        "y = df_pumps[\"status_group\"]"
      ]
    },
    {
      "cell_type": "code",
      "execution_count": 34,
      "metadata": {
        "id": "aeF200uP-_7V"
      },
      "outputs": [],
      "source": [
        "# train-test split data\n",
        "X_train, X_test, y_train, y_test = train_test_split(X,y,test_size=0.3, random_state=15, stratify=y)"
      ]
    },
    {
      "cell_type": "code",
      "execution_count": 35,
      "metadata": {
        "id": "Z3CmEiIwBbBi"
      },
      "outputs": [],
      "source": [
        "dummy_cls = DummyClassifier(strategy=\"uniform\")"
      ]
    },
    {
      "cell_type": "code",
      "execution_count": 36,
      "metadata": {
        "id": "4dmQVa_t67ss"
      },
      "outputs": [],
      "source": [
        "# define different parameters for models\n",
        "knn_params = dict(knn__n_neighbors=[2, 5, 20, 50, 100])\n",
        "decision_tree_params = dict(decision_tree__max_depth=[None, 5, 50, 200],\n",
        "                            decision_tree__min_samples_split=[2, 20, 50, 100])\n",
        "random_forest_params = dict(random_forest__n_estimators=[5, 50, 100],\n",
        "                            random_forest__max_depth=[None, 5, 50, 200],\n",
        "                            random_forest__max_features=[1.0, 0.5])\n",
        "adaboost_params = dict(adaboost__n_estimators= [50, 100],\n",
        "                       adaboost__learning_rate=[1.0, 0.5])\n",
        "xgboost_params = dict(xgboost__n_estimators= [100, 200, 400],\n",
        "                                   xgboost__max_depth=[6,20, 100],\n",
        "                                   xgboost__learning_rate= [0.3, 0.1])\n",
        "stacking_classifier_params = dict(stacking_classifier__estimators = [[('rf', RandomForestClassifier()),\n",
        "                                  ('svr',LinearSVC())],\n",
        "                                   [('rf', RandomForestClassifier(n_estimators=50)),\n",
        "                                  ('svr', LinearSVC())]])"
      ]
    },
    {
      "cell_type": "code",
      "execution_count": 37,
      "metadata": {
        "id": "LpY6g8fx37T7"
      },
      "outputs": [],
      "source": [
        "models_dict = dict(knn=[KNeighborsClassifier(), knn_params],\n",
        "                   decision_tree=[DecisionTreeClassifier(), decision_tree_params],\n",
        "                   random_forest=[RandomForestClassifier(), random_forest_params],\n",
        "                   adaboost=[AdaBoostClassifier(), adaboost_params],\n",
        "                   xgboost=[XGBClassifier(), xgboost_params],\n",
        "                   stacking_classifier=[StackingClassifier(estimators=[('rf', RandomForestClassifier(n_estimators=10, random_state=42)),\n",
        "                                  ('svc',LinearSVC(dual=False, random_state=42, penalty=\"l2\"))]), stacking_classifier_params])"
      ]
    },
    {
      "cell_type": "code",
      "execution_count": 38,
      "metadata": {
        "id": "GUP_jizOY_Z3"
      },
      "outputs": [],
      "source": [
        "# define numerical and categorical columns\n",
        "num_cols = X_train.select_dtypes(float).columns\n",
        "cat_cols = X_train.select_dtypes(object).columns\n",
        "# create a column transformer for features\n",
        "cols_transformer = ColumnTransformer(((\"num_transformer\",StandardScaler(), num_cols),\n",
        "                                    (\"cat_transformer\",make_pipeline(SimpleImputer(strategy=\"most_frequent\"),\n",
        "                                                                                OneHotEncoder(sparse_output=False)), cat_cols)))\n",
        "# create an encoder for the target\n",
        "label_encoder = LabelEncoder()\n",
        "# fit and transform training target\n",
        "y_train_encoded = label_encoder.fit_transform(y_train)\n",
        "# transform test_target\n",
        "y_test_encoded = label_encoder.transform(y_test)"
      ]
    },
    {
      "cell_type": "code",
      "execution_count": 39,
      "metadata": {
        "colab": {
          "base_uri": "https://localhost:8080/"
        },
        "id": "VnunbgSdi59f",
        "outputId": "ccd4b227-56a7-48bf-b2dc-c8dec67f0ca3"
      },
      "outputs": [
        {
          "data": {
            "text/plain": [
              "{0: 'functional', 1: 'functional needs repair', 2: 'non functional'}"
            ]
          },
          "execution_count": 39,
          "metadata": {},
          "output_type": "execute_result"
        }
      ],
      "source": [
        "# display the correspondent classe for each integer\n",
        "integer_mapping = {i: l for i, l in enumerate(label_encoder.classes_)}\n",
        "integer_mapping"
      ]
    },
    {
      "cell_type": "markdown",
      "metadata": {
        "id": "3u9itjgKda7E"
      },
      "source": [
        "As the non-functional state is the more critical one, we will focus on the f1 score for this class. this score is choosen to evaluate precision (we must avoid false positives because it will generate an unnecessary maintenance costs) and recall (we want to predict all states of pump failure)."
      ]
    },
    {
      "cell_type": "markdown",
      "metadata": {
        "id": "0NeTb_98U1Zm"
      },
      "source": [
        "# Model Evaluation & Improvement"
      ]
    },
    {
      "cell_type": "code",
      "execution_count": 43,
      "metadata": {},
      "outputs": [],
      "source": [
        "def train_test_cls_reports(pipeline, X_train, X_test, y_train, y_test):\n",
        "    # this function print the classification evaluation metrics for the training and test data\n",
        "    cls_report_train = classification_report(y_train, pipeline.predict(X_train))\n",
        "    cls_report_test = classification_report(y_test, pipeline.predict(X_test))\n",
        "    print(f\"* {pipeline.steps[-1][0]} - Training Set\\n{cls_report_train}\\n* {pipeline.steps[-1][0]} - Testing Set\\n{cls_report_test}\")"
      ]
    },
    {
      "cell_type": "code",
      "execution_count": 44,
      "metadata": {
        "colab": {
          "base_uri": "https://localhost:8080/"
        },
        "id": "LtsnF7DrA3s9",
        "outputId": "ecfafc9c-c4ed-402f-9555-e6852d1b915d"
      },
      "outputs": [
        {
          "name": "stdout",
          "output_type": "stream",
          "text": [
            "* dummy classificator - Training Set\n",
            "                         precision    recall  f1-score   support\n",
            "\n",
            "             functional       0.54      0.33      0.41     22581\n",
            "functional needs repair       0.07      0.33      0.12      3022\n",
            "         non functional       0.38      0.33      0.36     15977\n",
            "\n",
            "               accuracy                           0.33     41580\n",
            "              macro avg       0.33      0.33      0.29     41580\n",
            "           weighted avg       0.45      0.33      0.37     41580\n",
            "\n",
            "* dummy classificator - Testing Set\n",
            "                         precision    recall  f1-score   support\n",
            "\n",
            "             functional       0.55      0.34      0.42      9678\n",
            "functional needs repair       0.08      0.35      0.13      1295\n",
            "         non functional       0.39      0.34      0.36      6847\n",
            "\n",
            "               accuracy                           0.34     17820\n",
            "              macro avg       0.34      0.34      0.30     17820\n",
            "           weighted avg       0.45      0.34      0.37     17820\n",
            "\n"
          ]
        }
      ],
      "source": [
        "# create a pipeline for the baseline model\n",
        "pipeline_bseline_cls = Pipeline([(\"preprocessor\", cols_transformer),(\"dummy regressor\", dummy_cls)])\n",
        "# baseline model metrics\n",
        "pipeline = Pipeline([(\"preprocessor\", cols_transformer),(\"dummy classificator\", dummy_cls)])\n",
        "pipeline.fit(X_train, y_train)\n",
        "train_test_cls_reports(pipeline, X_train, X_test, y_train, y_test)"
      ]
    },
    {
      "cell_type": "code",
      "execution_count": 41,
      "metadata": {
        "colab": {
          "base_uri": "https://localhost:8080/"
        },
        "id": "2gWxAnfwtyjE",
        "outputId": "a1e53e4e-51f3-4d11-f703-374974db16ad"
      },
      "outputs": [
        {
          "name": "stdout",
          "output_type": "stream",
          "text": [
            "* knn - Training Set\n",
            "              precision    recall  f1-score   support\n",
            "\n",
            "           0       0.82      0.92      0.87     22581\n",
            "           1       0.67      0.42      0.51      3022\n",
            "           2       0.88      0.79      0.83     15977\n",
            "\n",
            "    accuracy                           0.83     41580\n",
            "   macro avg       0.79      0.71      0.74     41580\n",
            "weighted avg       0.83      0.83      0.83     41580\n",
            "\n",
            "* knn - Testing Set\n",
            "              precision    recall  f1-score   support\n",
            "\n",
            "           0       0.77      0.87      0.82      9678\n",
            "           1       0.46      0.29      0.36      1295\n",
            "           2       0.80      0.72      0.76      6847\n",
            "\n",
            "    accuracy                           0.77     17820\n",
            "   macro avg       0.68      0.63      0.64     17820\n",
            "weighted avg       0.76      0.77      0.76     17820\n",
            "\n",
            "* decision_tree - Training Set\n",
            "              precision    recall  f1-score   support\n",
            "\n",
            "           0       1.00      1.00      1.00     22581\n",
            "           1       0.99      0.97      0.98      3022\n",
            "           2       1.00      1.00      1.00     15977\n",
            "\n",
            "    accuracy                           1.00     41580\n",
            "   macro avg       0.99      0.99      0.99     41580\n",
            "weighted avg       1.00      1.00      1.00     41580\n",
            "\n",
            "* decision_tree - Testing Set\n",
            "              precision    recall  f1-score   support\n",
            "\n",
            "           0       0.79      0.79      0.79      9678\n",
            "           1       0.36      0.35      0.35      1295\n",
            "           2       0.75      0.75      0.75      6847\n",
            "\n",
            "    accuracy                           0.75     17820\n",
            "   macro avg       0.63      0.63      0.63     17820\n",
            "weighted avg       0.75      0.75      0.75     17820\n",
            "\n",
            "* random_forest - Training Set\n",
            "              precision    recall  f1-score   support\n",
            "\n",
            "           0       1.00      1.00      1.00     22581\n",
            "           1       0.98      0.97      0.98      3022\n",
            "           2       1.00      1.00      1.00     15977\n",
            "\n",
            "    accuracy                           1.00     41580\n",
            "   macro avg       0.99      0.99      0.99     41580\n",
            "weighted avg       1.00      1.00      1.00     41580\n",
            "\n",
            "* random_forest - Testing Set\n",
            "              precision    recall  f1-score   support\n",
            "\n",
            "           0       0.80      0.87      0.84      9678\n",
            "           1       0.52      0.34      0.41      1295\n",
            "           2       0.82      0.78      0.80      6847\n",
            "\n",
            "    accuracy                           0.80     17820\n",
            "   macro avg       0.71      0.66      0.68     17820\n",
            "weighted avg       0.79      0.80      0.79     17820\n",
            "\n",
            "* adaboost - Training Set\n",
            "              precision    recall  f1-score   support\n",
            "\n",
            "           0       0.71      0.89      0.79     22581\n",
            "           1       0.49      0.05      0.10      3022\n",
            "           2       0.76      0.62      0.68     15977\n",
            "\n",
            "    accuracy                           0.72     41580\n",
            "   macro avg       0.65      0.52      0.52     41580\n",
            "weighted avg       0.71      0.72      0.70     41580\n",
            "\n",
            "* adaboost - Testing Set\n",
            "              precision    recall  f1-score   support\n",
            "\n",
            "           0       0.70      0.89      0.78      9678\n",
            "           1       0.50      0.05      0.09      1295\n",
            "           2       0.76      0.61      0.68      6847\n",
            "\n",
            "    accuracy                           0.72     17820\n",
            "   macro avg       0.66      0.51      0.52     17820\n",
            "weighted avg       0.71      0.72      0.69     17820\n",
            "\n",
            "* xgboost - Training Set\n",
            "              precision    recall  f1-score   support\n",
            "\n",
            "           0       0.82      0.94      0.88     22581\n",
            "           1       0.79      0.35      0.49      3022\n",
            "           2       0.90      0.79      0.84     15977\n",
            "\n",
            "    accuracy                           0.84     41580\n",
            "   macro avg       0.83      0.70      0.73     41580\n",
            "weighted avg       0.85      0.84      0.83     41580\n",
            "\n",
            "* xgboost - Testing Set\n",
            "              precision    recall  f1-score   support\n",
            "\n",
            "           0       0.78      0.91      0.84      9678\n",
            "           1       0.63      0.24      0.35      1295\n",
            "           2       0.84      0.74      0.78      6847\n",
            "\n",
            "    accuracy                           0.79     17820\n",
            "   macro avg       0.75      0.63      0.66     17820\n",
            "weighted avg       0.79      0.79      0.78     17820\n",
            "\n",
            "* stacking_classifier - Training Set\n",
            "              precision    recall  f1-score   support\n",
            "\n",
            "           0       0.93      0.99      0.95     22581\n",
            "           1       0.96      0.59      0.73      3022\n",
            "           2       0.97      0.96      0.96     15977\n",
            "\n",
            "    accuracy                           0.95     41580\n",
            "   macro avg       0.95      0.84      0.88     41580\n",
            "weighted avg       0.95      0.95      0.94     41580\n",
            "\n",
            "* stacking_classifier - Testing Set\n",
            "              precision    recall  f1-score   support\n",
            "\n",
            "           0       0.79      0.88      0.83      9678\n",
            "           1       0.59      0.25      0.35      1295\n",
            "           2       0.81      0.76      0.79      6847\n",
            "\n",
            "    accuracy                           0.79     17820\n",
            "   macro avg       0.73      0.63      0.66     17820\n",
            "weighted avg       0.78      0.79      0.78     17820\n",
            "\n"
          ]
        }
      ],
      "source": [
        "for model in models_dict.keys():\n",
        "  pipeline = Pipeline([(\"preprocessor\",cols_transformer),(model,models_dict[model][0])])\n",
        "  pipeline.fit(X_train, y_train_encoded)\n",
        "  train_test_cls_reports(pipeline, X_train, X_test, y_train_encoded, y_test_encoded)"
      ]
    },
    {
      "cell_type": "markdown",
      "metadata": {
        "id": "GL_JNW9Wc_xr"
      },
      "source": [
        "For a default tuning, all models outperform the baseline model.\n",
        "and the random forest model has the best class 2 f1 score (0.80)"
      ]
    },
    {
      "cell_type": "code",
      "execution_count": null,
      "metadata": {
        "colab": {
          "base_uri": "https://localhost:8080/"
        },
        "id": "kriYvUSa4VlE",
        "outputId": "6cda32c4-3d22-4da4-e4ae-096e78e6330f"
      },
      "outputs": [
        {
          "name": "stdout",
          "output_type": "stream",
          "text": [
            "* knn\n",
            "  - Best Score: 0.7480758584698848\n",
            "  - Best Parameters: {'knn__n_neighbors': 5}\n",
            "* decision_tree\n",
            "  - Best Score: 0.751420189516916\n",
            "  - Best Parameters: {'decision_tree__max_depth': 50, 'decision_tree__min_samples_split': 2}\n",
            "* random_forest\n",
            "  - Best Score: 0.7991890779915533\n",
            "  - Best Parameters: {'random_forest__max_depth': 200, 'random_forest__max_features': 0.5, 'random_forest__n_estimators': 50}\n",
            "* adaboost\n",
            "  - Best Score: 0.6919274920738356\n",
            "  - Best Parameters: {'adaboost__learning_rate': 1.0, 'adaboost__n_estimators': 100}\n"
          ]
        }
      ],
      "source": [
        "for model in models_dict.keys():\n",
        "  pipeline = Pipeline([(\"preprocessor\",cols_transformer),(model,models_dict[model][0])])\n",
        "  grid_search = GridSearchCV(pipeline, models_dict[model][1],\n",
        "                            scoring=make_scorer(f1_score, labels=[2], average='micro'), error_score=\"raise\")\n",
        "  grid_search.fit(X_train, label_encoder.fit_transform(y_train))\n",
        "  print(f\"* {model}\\n  - Best Score: {grid_search.best_score_}\\n  - Best Parameters: {grid_search.best_params_}\")"
      ]
    },
    {
      "cell_type": "markdown",
      "metadata": {
        "id": "8MN2WAwK8gir"
      },
      "source": [
        "The XGBoost classifier has the best score so it is the most generalized model."
      ]
    },
    {
      "cell_type": "code",
      "execution_count": 45,
      "metadata": {
        "id": "te-ReKcmUFC6"
      },
      "outputs": [
        {
          "name": "stdout",
          "output_type": "stream",
          "text": [
            "* XGBoost - Training Set\n",
            "              precision    recall  f1-score   support\n",
            "\n",
            "           0       0.94      0.98      0.96     22581\n",
            "           1       0.94      0.78      0.85      3022\n",
            "           2       0.98      0.94      0.96     15977\n",
            "\n",
            "    accuracy                           0.95     41580\n",
            "   macro avg       0.95      0.90      0.93     41580\n",
            "weighted avg       0.95      0.95      0.95     41580\n",
            "\n",
            "* XGBoost - Testing Set\n",
            "              precision    recall  f1-score   support\n",
            "\n",
            "           0       0.80      0.88      0.84      9678\n",
            "           1       0.53      0.30      0.38      1295\n",
            "           2       0.83      0.77      0.80      6847\n",
            "\n",
            "    accuracy                           0.80     17820\n",
            "   macro avg       0.72      0.65      0.67     17820\n",
            "weighted avg       0.79      0.80      0.79     17820\n",
            "\n"
          ]
        }
      ],
      "source": [
        "# define XGBoost model tuned with the best tested parameters\n",
        "xgboost = XGBClassifier(learning_rate=0.05, max_depth=20, n_estimators=100)\n",
        "# create and fit pipeline\n",
        "pipeline = Pipeline([(\"preprocessor\", cols_transformer),(\"XGBoost\", xgboost)])\n",
        "pipeline.fit(X_train, y_train_encoded)\n",
        "# display metrics\n",
        "train_test_cls_reports(pipeline, X_train, X_test, y_train_encoded, y_test_encoded)"
      ]
    },
    {
      "cell_type": "code",
      "execution_count": null,
      "metadata": {
        "id": "bhQI2aF6BobP"
      },
      "outputs": [],
      "source": [
        "# use XGboost model with PCA\n",
        "cols_transformer_pca = ColumnTransformer(((\"num_transformer\",make_pipeline(StandardScaler(),PCA(n_components=0.95)), num_cols),\n",
        "                                    (\"cat_transformer\",make_pipeline(SimpleImputer(strategy=\"most_frequent\"),\n",
        "                                                                                OneHotEncoder(sparse_output=False)), cat_cols)))\n",
        "pipeline = Pipeline([(\"preprocessor\",cols_transformer_pca),(\"XGBoost with PCA\",xgboost)])\n",
        "train_test_cls_reports(pipeline, X_train, X_test, y_train_encoded, y_test_encoded)"
      ]
    },
    {
      "cell_type": "markdown",
      "metadata": {
        "id": "ANNn3wluTZWU"
      },
      "source": [
        "The performance of the model decreased by PCA"
      ]
    },
    {
      "cell_type": "code",
      "execution_count": 46,
      "metadata": {
        "id": "qoJDBV-C4xg5"
      },
      "outputs": [
        {
          "name": "stdout",
          "output_type": "stream",
          "text": [
            "* XGBoost - Training Set\n",
            "              precision    recall  f1-score   support\n",
            "\n",
            "           0       0.95      0.94      0.95     22581\n",
            "           1       0.72      0.90      0.80      3022\n",
            "           2       0.97      0.94      0.95     15977\n",
            "\n",
            "    accuracy                           0.94     41580\n",
            "   macro avg       0.88      0.93      0.90     41580\n",
            "weighted avg       0.94      0.94      0.94     41580\n",
            "\n",
            "* XGBoost - Testing Set\n",
            "              precision    recall  f1-score   support\n",
            "\n",
            "           0       0.81      0.83      0.82      9678\n",
            "           1       0.40      0.47      0.43      1295\n",
            "           2       0.82      0.77      0.79      6847\n",
            "\n",
            "    accuracy                           0.78     17820\n",
            "   macro avg       0.68      0.69      0.68     17820\n",
            "weighted avg       0.79      0.78      0.78     17820\n",
            "\n"
          ]
        }
      ],
      "source": [
        "# use XGboost model with a SMOTE\n",
        "cols_transformer_pca = ColumnTransformer(((\"num_transformer\", make_pipeline(StandardScaler()), num_cols),\n",
        "                                    (\"cat_transformer\",make_pipeline(SimpleImputer(strategy=\"most_frequent\"),\n",
        "                                                                                OneHotEncoder(sparse_output=False)), cat_cols)))\n",
        "pipeline = smt_pipeline([(\"preprocessor\", cols_transformer_pca),(\"smote\", SMOTE()),(\"XGBoost\", xgboost)])\n",
        "pipeline.fit(X_train, y_train_encoded)\n",
        "y_train_pred = pipeline.predict(X_train)\n",
        "y_test_pred = pipeline.predict(X_test)\n",
        "train_test_cls_reports(pipeline, X_train, X_test, y_train_encoded, y_test_encoded)"
      ]
    },
    {
      "cell_type": "markdown",
      "metadata": {
        "id": "HlWUqAEQYBX7"
      },
      "source": [
        "The F1 score for the \"non functional\" class still the same by SMOTE resampling but for the \"functional need repair\" class, it was improved, so we will keep the SMOTE resampling in the model training."
      ]
    },
    {
      "cell_type": "markdown",
      "metadata": {
        "id": "otKhVPygY7UB"
      },
      "source": [
        "# Model Interpretation"
      ]
    },
    {
      "cell_type": "code",
      "execution_count": 48,
      "metadata": {
        "id": "w6hdO3JLnSps"
      },
      "outputs": [
        {
          "data": {
            "text/plain": [
              "Text(0.5, 1.0, 'Test Set Confusion Matrix')"
            ]
          },
          "execution_count": 48,
          "metadata": {},
          "output_type": "execute_result"
        },
        {
          "data": {
            "image/png": "[encoded data removed]",
            "text/plain": [
              "<Figure size 640x480 with 2 Axes>"
            ]
          },
          "metadata": {},
          "output_type": "display_data"
        }
      ],
      "source": [
        "cm = confusion_matrix(y_test_encoded,y_test_pred, normalize=\"true\")\n",
        "sns.heatmap(cm, xticklabels=label_encoder.classes_, yticklabels=label_encoder.classes_,\n",
        "            annot=True, fmt=\".2f\", cmap=\"Greens\")\n",
        "plt.ylabel(\"True Label\")\n",
        "plt.xlabel(\"Predicted Label\")\n",
        "plt.title(\"Test Set Confusion Matrix\")"
      ]
    },
    {
      "cell_type": "markdown",
      "metadata": {
        "id": "tCQJVNAouBCx"
      },
      "source": [
        "77% of the non functional states were detected by the model which allow to signicantly avoid pumps failures. Face to states where the pump is functional but needs repair, the model is less efficient with only 47% from these states were truly predicted."
      ]
    },
    {
      "cell_type": "code",
      "execution_count": 49,
      "metadata": {
        "id": "BRpYWoKpLqEe"
      },
      "outputs": [
        {
          "data": {
            "text/html": [
              "<div>\n",
              "<style scoped>\n",
              "    .dataframe tbody tr th:only-of-type {\n",
              "        vertical-align: middle;\n",
              "    }\n",
              "\n",
              "    .dataframe tbody tr th {\n",
              "        vertical-align: top;\n",
              "    }\n",
              "\n",
              "    .dataframe thead th {\n",
              "        text-align: right;\n",
              "    }\n",
              "</style>\n",
              "<table border=\"1\" class=\"dataframe\">\n",
              "  <thead>\n",
              "    <tr style=\"text-align: right;\">\n",
              "      <th></th>\n",
              "      <th>Feature</th>\n",
              "      <th>Importance</th>\n",
              "    </tr>\n",
              "  </thead>\n",
              "  <tbody>\n",
              "    <tr>\n",
              "      <th>126</th>\n",
              "      <td>cat_transformer__quantity_dry</td>\n",
              "      <td>0.184563</td>\n",
              "    </tr>\n",
              "    <tr>\n",
              "      <th>27</th>\n",
              "      <td>cat_transformer__region_Iringa</td>\n",
              "      <td>0.133671</td>\n",
              "    </tr>\n",
              "    <tr>\n",
              "      <th>53</th>\n",
              "      <td>cat_transformer__region_code_17</td>\n",
              "      <td>0.048788</td>\n",
              "    </tr>\n",
              "    <tr>\n",
              "      <th>100</th>\n",
              "      <td>cat_transformer__extraction_type_other</td>\n",
              "      <td>0.020784</td>\n",
              "    </tr>\n",
              "    <tr>\n",
              "      <th>95</th>\n",
              "      <td>cat_transformer__extraction_type_gravity</td>\n",
              "      <td>0.020218</td>\n",
              "    </tr>\n",
              "    <tr>\n",
              "      <th>...</th>\n",
              "      <td>...</td>\n",
              "      <td>...</td>\n",
              "    </tr>\n",
              "    <tr>\n",
              "      <th>45</th>\n",
              "      <td>cat_transformer__region_code_1</td>\n",
              "      <td>0.000000</td>\n",
              "    </tr>\n",
              "    <tr>\n",
              "      <th>51</th>\n",
              "      <td>cat_transformer__region_code_15</td>\n",
              "      <td>0.000000</td>\n",
              "    </tr>\n",
              "    <tr>\n",
              "      <th>48</th>\n",
              "      <td>cat_transformer__region_code_12</td>\n",
              "      <td>0.000000</td>\n",
              "    </tr>\n",
              "    <tr>\n",
              "      <th>46</th>\n",
              "      <td>cat_transformer__region_code_10</td>\n",
              "      <td>0.000000</td>\n",
              "    </tr>\n",
              "    <tr>\n",
              "      <th>49</th>\n",
              "      <td>cat_transformer__region_code_13</td>\n",
              "      <td>0.000000</td>\n",
              "    </tr>\n",
              "  </tbody>\n",
              "</table>\n",
              "<p>145 rows × 2 columns</p>\n",
              "</div>"
            ],
            "text/plain": [
              "                                      Feature  Importance\n",
              "126             cat_transformer__quantity_dry    0.184563\n",
              "27             cat_transformer__region_Iringa    0.133671\n",
              "53            cat_transformer__region_code_17    0.048788\n",
              "100    cat_transformer__extraction_type_other    0.020784\n",
              "95   cat_transformer__extraction_type_gravity    0.020218\n",
              "..                                        ...         ...\n",
              "45             cat_transformer__region_code_1    0.000000\n",
              "51            cat_transformer__region_code_15    0.000000\n",
              "48            cat_transformer__region_code_12    0.000000\n",
              "46            cat_transformer__region_code_10    0.000000\n",
              "49            cat_transformer__region_code_13    0.000000\n",
              "\n",
              "[145 rows x 2 columns]"
            ]
          },
          "execution_count": 49,
          "metadata": {},
          "output_type": "execute_result"
        }
      ],
      "source": [
        "# display feature importances depending on the mean decrease in impurity\n",
        "data = list(zip(xgboost.feature_names_in_, xgboost.feature_importances_))\n",
        "df_importances = pd.DataFrame(data, columns=['Feature', 'Importance']).sort_values(by='Importance', ascending=False)\n",
        "df_importances"
      ]
    },
    {
      "cell_type": "markdown",
      "metadata": {
        "id": "LchLQt-p_InW"
      },
      "source": [
        "The \"quantity\" and \"region\" features have significant importance for the model."
      ]
    }
  ],
  "metadata": {
    "accelerator": "GPU",
    "colab": {
      "authorship_tag": "ABX9TyMWBCcsG+21wkmnGYLAQeWk",
      "include_colab_link": true,
      "mount_file_id": "1HHwlBKb--_mIKWtXB8M2LtPQHElmjacV",
      "provenance": []
    },
    "kernelspec": {
      "display_name": "Python 3",
      "name": "python3"
    },
    "language_info": {
      "codemirror_mode": {
        "name": "ipython",
        "version": 3
      },
      "file_extension": ".py",
      "mimetype": "text/x-python",
      "name": "python",
      "nbconvert_exporter": "python",
      "pygments_lexer": "ipython3",
      "version": "3.11.4"
    }
  },
  "nbformat": 4,
  "nbformat_minor": 0
}
